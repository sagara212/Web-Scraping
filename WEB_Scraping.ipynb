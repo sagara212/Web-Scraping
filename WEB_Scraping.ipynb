{
  "nbformat": 4,
  "nbformat_minor": 0,
  "metadata": {
    "colab": {
      "provenance": [],
      "toc_visible": true
    },
    "kernelspec": {
      "name": "python3",
      "display_name": "Python 3"
    },
    "language_info": {
      "name": "python"
    }
  },
  "cells": [
    {
      "cell_type": "markdown",
      "source": [
        "# Web Scraping\n"
      ],
      "metadata": {
        "id": "CqY1_NS6IUJB"
      }
    },
    {
      "cell_type": "code",
      "source": [
        "!pip install beautifulsoup4"
      ],
      "metadata": {
        "colab": {
          "base_uri": "https://localhost:8080/"
        },
        "id": "GoL1BPegKhQ0",
        "outputId": "07893d59-815e-44d2-87fd-073ccedef778"
      },
      "execution_count": 2,
      "outputs": [
        {
          "output_type": "stream",
          "name": "stdout",
          "text": [
            "Requirement already satisfied: beautifulsoup4 in /usr/local/lib/python3.11/dist-packages (4.13.3)\n",
            "Requirement already satisfied: soupsieve>1.2 in /usr/local/lib/python3.11/dist-packages (from beautifulsoup4) (2.6)\n",
            "Requirement already satisfied: typing-extensions>=4.0.0 in /usr/local/lib/python3.11/dist-packages (from beautifulsoup4) (4.12.2)\n"
          ]
        }
      ]
    },
    {
      "cell_type": "code",
      "execution_count": 3,
      "metadata": {
        "id": "DysWJlh1KNtb",
        "colab": {
          "base_uri": "https://localhost:8080/"
        },
        "outputId": "4505e8b3-5dc9-4476-9949-5abca9635f09"
      },
      "outputs": [
        {
          "output_type": "stream",
          "name": "stdout",
          "text": [
            "Requirement already satisfied: beautifulsoup4 in /usr/local/lib/python3.11/dist-packages (4.13.3)\n",
            "Requirement already satisfied: soupsieve>1.2 in /usr/local/lib/python3.11/dist-packages (from beautifulsoup4) (2.6)\n",
            "Requirement already satisfied: typing-extensions>=4.0.0 in /usr/local/lib/python3.11/dist-packages (from beautifulsoup4) (4.12.2)\n"
          ]
        }
      ],
      "source": [
        "!pip install beautifulsoup4\n",
        "import requests\n",
        "from bs4 import BeautifulSoup as bs"
      ]
    },
    {
      "cell_type": "code",
      "source": [
        "url = 'https://www.crummy.com/software/BeautifulSoup/bs4/doc/'\n",
        "respone = requests.get(url)\n",
        "respone"
      ],
      "metadata": {
        "colab": {
          "base_uri": "https://localhost:8080/"
        },
        "id": "FC4q8E8NKrnN",
        "outputId": "d775f382-9a35-4da8-ac31-ac5eb3502a4d"
      },
      "execution_count": 4,
      "outputs": [
        {
          "output_type": "execute_result",
          "data": {
            "text/plain": [
              "<Response [200]>"
            ]
          },
          "metadata": {},
          "execution_count": 4
        }
      ]
    },
    {
      "cell_type": "code",
      "source": [
        "raw_code = respone.text"
      ],
      "metadata": {
        "id": "9Ofk80BDLIpQ"
      },
      "execution_count": 5,
      "outputs": []
    },
    {
      "cell_type": "code",
      "source": [
        "soup = bs(raw_code, 'html.parser')"
      ],
      "metadata": {
        "id": "l-aJssDFLaNN"
      },
      "execution_count": 6,
      "outputs": []
    },
    {
      "cell_type": "markdown",
      "source": [
        "# scraping by element"
      ],
      "metadata": {
        "id": "i3NsuMfAQbgr"
      }
    },
    {
      "cell_type": "code",
      "source": [
        "print(soup.title.string)"
      ],
      "metadata": {
        "colab": {
          "base_uri": "https://localhost:8080/"
        },
        "id": "gUr_fVGyLucH",
        "outputId": "5b2e2c9b-8a26-4956-bcd5-e11f0e27f00f"
      },
      "execution_count": 7,
      "outputs": [
        {
          "output_type": "stream",
          "name": "stdout",
          "text": [
            "Beautiful Soup Documentation — Beautiful Soup 4.13.0 documentation\n"
          ]
        }
      ]
    },
    {
      "cell_type": "code",
      "source": [
        "print(soup.h1)"
      ],
      "metadata": {
        "colab": {
          "base_uri": "https://localhost:8080/"
        },
        "id": "rxITHqa9P7Ot",
        "outputId": "1e45643d-31a3-404e-e820-d4ce5eaf7ad5"
      },
      "execution_count": 8,
      "outputs": [
        {
          "output_type": "stream",
          "name": "stdout",
          "text": [
            "<h1>Beautiful Soup Documentation<a class=\"headerlink\" href=\"#beautiful-soup-documentation\" title=\"Link to this heading\">¶</a></h1>\n"
          ]
        }
      ]
    },
    {
      "cell_type": "markdown",
      "source": [
        "# find and find all method\n",
        "\n",
        "* find()\tMengembalikan elemen pertama yang cocok dengan kriteria pencarian\tSatu objek Tag atau None jika tidak ditemukan\n",
        "* find_all()\tMengembalikan semua elemen yang cocok dalam bentuk list\tList berisi banyak Tag, atau list kosong jika tidak ditemukan"
      ],
      "metadata": {
        "id": "le0rh9SfRkb0"
      }
    },
    {
      "cell_type": "code",
      "source": [
        "var1 = soup.find_all('title')\n",
        "print(var1)"
      ],
      "metadata": {
        "colab": {
          "base_uri": "https://localhost:8080/"
        },
        "id": "hQxjFqJORj_V",
        "outputId": "bddaaa75-49c0-4150-d8d6-5d32a0ff770e"
      },
      "execution_count": 9,
      "outputs": [
        {
          "output_type": "stream",
          "name": "stdout",
          "text": [
            "[<title>Beautiful Soup Documentation — Beautiful Soup 4.13.0 documentation</title>]\n"
          ]
        }
      ]
    },
    {
      "cell_type": "code",
      "source": [
        "var1 = soup.find('title')\n",
        "print(var1.string)"
      ],
      "metadata": {
        "colab": {
          "base_uri": "https://localhost:8080/"
        },
        "id": "VkX-FpVGQfal",
        "outputId": "259f76a3-d841-48ff-d524-db12e68b71ec"
      },
      "execution_count": 10,
      "outputs": [
        {
          "output_type": "stream",
          "name": "stdout",
          "text": [
            "Beautiful Soup Documentation — Beautiful Soup 4.13.0 documentation\n"
          ]
        }
      ]
    },
    {
      "cell_type": "code",
      "source": [
        "var2= soup.find_all('a')  #berdasarkan anchor tag\n",
        "print(var2)"
      ],
      "metadata": {
        "colab": {
          "base_uri": "https://localhost:8080/"
        },
        "id": "lFp5CUqzTbkY",
        "outputId": "bbf5b030-432f-4f7a-a159-eeeb63c53d15"
      },
      "execution_count": 11,
      "outputs": [
        {
          "output_type": "stream",
          "name": "stdout",
          "text": [
            "[<a class=\"headerlink\" href=\"#beautiful-soup-documentation\" title=\"Link to this heading\">¶</a>, <a class=\"reference external\" href=\"http://www.crummy.com/software/BeautifulSoup/\">Beautiful Soup</a>, <a class=\"reference external\" href=\"http://www.crummy.com/software/BeautifulSoup/bs3/documentation.html\">Beautiful Soup 3</a>, <a class=\"reference internal\" href=\"#porting-code-to-bs4\">Porting code to BS4</a>, <a class=\"reference external\" href=\"https://www.crummy.com/software/BeautifulSoup/bs4/doc.zh/\">这篇文档当然还有中文版.</a>, <a class=\"reference external\" href=\"http://kondou.com/BS4/\">外部リンク</a>, <a class=\"reference external\" href=\"https://www.crummy.com/software/BeautifulSoup/bs4/doc.ko/\">이 문서는 한국어 번역도 가능합니다.</a>, <a class=\"reference external\" href=\"https://www.crummy.com/software/BeautifulSoup/bs4/doc.ptbr\">Este documento também está disponível em Português do Brasil.</a>, <a class=\"reference external\" href=\"https://www.crummy.com/software/BeautifulSoup/bs4/doc.es/\">Este documento también está disponible en una traducción al español.</a>, <a class=\"reference external\" href=\"https://www.crummy.com/software/BeautifulSoup/bs4/doc.ru/\">Эта документация доступна на русском языке.</a>, <a class=\"headerlink\" href=\"#getting-help\" title=\"Link to this heading\">¶</a>, <a class=\"reference external\" href=\"https://groups.google.com/forum/?fromgroups#!forum/beautifulsoup\">send mail to the discussion group</a>, <a class=\"reference internal\" href=\"#diagnose\"><span class=\"std std-ref\">what the diagnose() function says</span></a>, <a class=\"headerlink\" href=\"#api-documentation\" title=\"Link to this heading\">¶</a>, <a class=\"reference internal\" href=\"api/modules.html\"><span class=\"doc\">traditional API documentation</span></a>, <a class=\"headerlink\" href=\"#quick-start\" title=\"Link to this heading\">¶</a>, <a class=\"headerlink\" href=\"#installing-beautiful-soup\" title=\"Link to this heading\">¶</a>, <a class=\"reference external\" href=\"http://www.crummy.com/software/BeautifulSoup/bs3/documentation.html\">Beautiful Soup 3</a>, <a class=\"reference external\" href=\"http://www.crummy.com/software/BeautifulSoup/download/4.x/\">download the Beautiful Soup 4 source tarball</a>, <a class=\"headerlink\" href=\"#installing-a-parser\" title=\"Link to this heading\">¶</a>, <a class=\"reference external\" href=\"http://lxml.de/\">lxml parser</a>, <a class=\"reference external\" href=\"http://code.google.com/p/html5lib/\">html5lib parser</a>, <a class=\"reference internal\" href=\"#differences-between-parsers\">Differences\n",
            "between parsers</a>, <a class=\"headerlink\" href=\"#making-the-soup\" title=\"Link to this heading\">¶</a>, <a class=\"reference internal\" href=\"#id15\">Parsing XML</a>, <a class=\"headerlink\" href=\"#kinds-of-objects\" title=\"Link to this heading\">¶</a>, <a class=\"reference internal\" href=\"#Tag\" title=\"Tag\"><code class=\"xref py py-class docutils literal notranslate\"><span class=\"pre\">Tag</span></code></a>, <a class=\"reference internal\" href=\"#NavigableString\" title=\"NavigableString\"><code class=\"xref py py-class docutils literal notranslate\"><span class=\"pre\">NavigableString</span></code></a>, <a class=\"reference internal\" href=\"#Comment\" title=\"Comment\"><code class=\"xref py py-class docutils literal notranslate\"><span class=\"pre\">Comment</span></code></a>, <a class=\"headerlink\" href=\"#Tag\" title=\"Link to this definition\">¶</a>, <a class=\"reference internal\" href=\"#Tag\" title=\"Tag\"><code class=\"xref py py-class docutils literal notranslate\"><span class=\"pre\">Tag</span></code></a>, <a class=\"reference internal\" href=\"#navigating-the-tree\">Navigating the tree</a>, <a class=\"reference internal\" href=\"#searching-the-tree\">Searching the tree</a>, <a class=\"headerlink\" href=\"#Tag.name\" title=\"Link to this definition\">¶</a>, <a class=\"headerlink\" href=\"#Tag.attrs\" title=\"Link to this definition\">¶</a>, <a class=\"headerlink\" href=\"#multi-valued-attributes\" title=\"Link to this heading\">¶</a>, <a class=\"headerlink\" href=\"#NavigableString\" title=\"Link to this definition\">¶</a>, <a class=\"reference internal\" href=\"#NavigableString\" title=\"NavigableString\"><code class=\"xref py py-class docutils literal notranslate\"><span class=\"pre\">NavigableString</span></code></a>, <a class=\"reference internal\" href=\"#NavigableString\" title=\"NavigableString\"><code class=\"xref py py-class docutils literal notranslate\"><span class=\"pre\">NavigableString</span></code></a>, <a class=\"reference internal\" href=\"#navigating-the-tree\">Navigating\n",
            "the tree</a>, <a class=\"reference internal\" href=\"#searching-the-tree\">Searching the tree</a>, <a class=\"reference internal\" href=\"#NavigableString\" title=\"NavigableString\"><code class=\"xref py py-class docutils literal notranslate\"><span class=\"pre\">NavigableString</span></code></a>, <a class=\"reference internal\" href=\"#replace-with\"><span class=\"std std-ref\">replace_with()</span></a>, <a class=\"reference internal\" href=\"#NavigableString\" title=\"NavigableString\"><code class=\"xref py py-class docutils literal notranslate\"><span class=\"pre\">NavigableString</span></code></a>, <a class=\"reference internal\" href=\"#navigating-the-tree\">Navigating the tree</a>, <a class=\"reference internal\" href=\"#searching-the-tree\">Searching the tree</a>, <a class=\"reference internal\" href=\"#NavigableString\" title=\"NavigableString\"><code class=\"xref py py-class docutils literal notranslate\"><span class=\"pre\">NavigableString</span></code></a>, <a class=\"reference internal\" href=\"#Tag\" title=\"Tag\"><code class=\"xref py py-class docutils literal notranslate\"><span class=\"pre\">Tag</span></code></a>, <a class=\"reference internal\" href=\"#navigating-the-tree\">Navigating the tree</a>, <a class=\"reference internal\" href=\"#searching-the-tree\">Searching the tree</a>, <a class=\"reference internal\" href=\"#modifying-the-tree\">Modifying the tree</a>, <a class=\"reference internal\" href=\"#Tag\" title=\"Tag\"><code class=\"xref py py-class docutils literal notranslate\"><span class=\"pre\">Tag</span></code></a>, <a class=\"reference internal\" href=\"#Tag\" title=\"Tag\"><code class=\"xref py py-class docutils literal notranslate\"><span class=\"pre\">Tag</span></code></a>, <a class=\"headerlink\" href=\"#special-strings\" title=\"Link to this heading\">¶</a>, <a class=\"reference internal\" href=\"#Tag\" title=\"Tag\"><code class=\"xref py py-class docutils literal notranslate\"><span class=\"pre\">Tag</span></code></a>, <a class=\"reference internal\" href=\"#NavigableString\" title=\"NavigableString\"><code class=\"xref py py-class docutils literal notranslate\"><span class=\"pre\">NavigableString</span></code></a>, <a class=\"reference internal\" href=\"#Comment\" title=\"Comment\"><code class=\"xref py py-class docutils literal notranslate\"><span class=\"pre\">Comment</span></code></a>, <a class=\"headerlink\" href=\"#Comment\" title=\"Link to this definition\">¶</a>, <a class=\"reference internal\" href=\"#Comment\" title=\"Comment\"><code class=\"xref py py-class docutils literal notranslate\"><span class=\"pre\">Comment</span></code></a>, <a class=\"reference internal\" href=\"#NavigableString\" title=\"NavigableString\"><code class=\"xref py py-class docutils literal notranslate\"><span class=\"pre\">NavigableString</span></code></a>, <a class=\"reference internal\" href=\"#Comment\" title=\"Comment\"><code class=\"xref py py-class docutils literal notranslate\"><span class=\"pre\">Comment</span></code></a>, <a class=\"headerlink\" href=\"#for-html-documents\" title=\"Link to this heading\">¶</a>, <a class=\"reference internal\" href=\"#NavigableString\" title=\"NavigableString\"><code class=\"xref py py-class docutils literal notranslate\"><span class=\"pre\">NavigableString</span></code></a>, <a class=\"headerlink\" href=\"#Stylesheet\" title=\"Link to this definition\">¶</a>, <a class=\"reference internal\" href=\"#NavigableString\" title=\"NavigableString\"><code class=\"xref py py-class docutils literal notranslate\"><span class=\"pre\">NavigableString</span></code></a>, <a class=\"headerlink\" href=\"#Script\" title=\"Link to this definition\">¶</a>, <a class=\"reference internal\" href=\"#NavigableString\" title=\"NavigableString\"><code class=\"xref py py-class docutils literal notranslate\"><span class=\"pre\">NavigableString</span></code></a>, <a class=\"headerlink\" href=\"#Template\" title=\"Link to this definition\">¶</a>, <a class=\"reference internal\" href=\"#NavigableString\" title=\"NavigableString\"><code class=\"xref py py-class docutils literal notranslate\"><span class=\"pre\">NavigableString</span></code></a>, <a class=\"headerlink\" href=\"#for-xml-documents\" title=\"Link to this heading\">¶</a>, <a class=\"reference internal\" href=\"#NavigableString\" title=\"NavigableString\"><code class=\"xref py py-class docutils literal notranslate\"><span class=\"pre\">NavigableString</span></code></a>, <a class=\"reference internal\" href=\"#Comment\" title=\"Comment\"><code class=\"xref py py-class docutils literal notranslate\"><span class=\"pre\">Comment</span></code></a>, <a class=\"reference internal\" href=\"#NavigableString\" title=\"NavigableString\"><code class=\"xref py py-class docutils literal notranslate\"><span class=\"pre\">NavigableString</span></code></a>, <a class=\"headerlink\" href=\"#Declaration\" title=\"Link to this definition\">¶</a>, <a class=\"reference internal\" href=\"#NavigableString\" title=\"NavigableString\"><code class=\"xref py py-class docutils literal notranslate\"><span class=\"pre\">NavigableString</span></code></a>, <a class=\"reference external\" href=\"https://www.w3.org/TR/REC-xml/#sec-prolog-dtd\">declaration</a>, <a class=\"headerlink\" href=\"#Doctype\" title=\"Link to this definition\">¶</a>, <a class=\"reference internal\" href=\"#NavigableString\" title=\"NavigableString\"><code class=\"xref py py-class docutils literal notranslate\"><span class=\"pre\">NavigableString</span></code></a>, <a class=\"reference external\" href=\"https://www.w3.org/TR/REC-xml/#dt-doctype\">document type\n",
            "declaration</a>, <a class=\"headerlink\" href=\"#CData\" title=\"Link to this definition\">¶</a>, <a class=\"reference internal\" href=\"#NavigableString\" title=\"NavigableString\"><code class=\"xref py py-class docutils literal notranslate\"><span class=\"pre\">NavigableString</span></code></a>, <a class=\"reference external\" href=\"https://www.w3.org/TR/REC-xml/#sec-cdata-sect\">CData section</a>, <a class=\"headerlink\" href=\"#ProcessingInstruction\" title=\"Link to this definition\">¶</a>, <a class=\"reference internal\" href=\"#NavigableString\" title=\"NavigableString\"><code class=\"xref py py-class docutils literal notranslate\"><span class=\"pre\">NavigableString</span></code></a>, <a class=\"reference external\" href=\"https://www.w3.org/TR/REC-xml/#sec-pi\">XML processing instruction</a>, <a class=\"headerlink\" href=\"#navigating-the-tree\" title=\"Link to this heading\">¶</a>, <a class=\"headerlink\" href=\"#going-down\" title=\"Link to this heading\">¶</a>, <a class=\"headerlink\" href=\"#navigating-using-tag-names\" title=\"Link to this heading\">¶</a>, <a class=\"reference internal\" href=\"#searching-the-tree\">Searching the tree</a>, <a class=\"headerlink\" href=\"#contents-and-children\" title=\"Link to this heading\">¶</a>, <a class=\"reference internal\" href=\"#modifying-the-tree\">Modifying the tree</a>, <a class=\"headerlink\" href=\"#descendants\" title=\"Link to this heading\">¶</a>, <a class=\"headerlink\" href=\"#string\" title=\"Link to this heading\">¶</a>, <a class=\"reference internal\" href=\"#NavigableString\" title=\"NavigableString\"><code class=\"xref py py-class docutils literal notranslate\"><span class=\"pre\">NavigableString</span></code></a>, <a class=\"headerlink\" href=\"#strings-and-stripped-strings\" title=\"Link to this heading\">¶</a>, <a class=\"headerlink\" href=\"#going-up\" title=\"Link to this heading\">¶</a>, <a class=\"headerlink\" href=\"#parent\" title=\"Link to this heading\">¶</a>, <a class=\"headerlink\" href=\"#parents\" title=\"Link to this heading\">¶</a>, <a class=\"headerlink\" href=\"#self-and-parents\" title=\"Link to this heading\">¶</a>, <a class=\"headerlink\" href=\"#going-sideways\" title=\"Link to this heading\">¶</a>, <a class=\"headerlink\" href=\"#next-sibling-and-previous-sibling\" title=\"Link to this heading\">¶</a>, <a class=\"headerlink\" href=\"#next-siblings-and-previous-siblings\" title=\"Link to this heading\">¶</a>, <a class=\"reference internal\" href=\"#kwargs\"><span class=\"std std-ref\">The keyword arguments</span></a>, <a class=\"headerlink\" href=\"#going-back-and-forth\" title=\"Link to this heading\">¶</a>, <a class=\"headerlink\" href=\"#next-element-and-previous-element\" title=\"Link to this heading\">¶</a>, <a class=\"headerlink\" href=\"#next-elements-and-previous-elements\" title=\"Link to this heading\">¶</a>, <a class=\"headerlink\" href=\"#searching-the-tree\" title=\"Link to this heading\">¶</a>, <a class=\"headerlink\" href=\"#kinds-of-filters\" title=\"Link to this heading\">¶</a>, <a class=\"headerlink\" href=\"#a-string\" title=\"Link to this heading\">¶</a>, <a class=\"headerlink\" href=\"#a-regular-expression\" title=\"Link to this heading\">¶</a>, <a class=\"headerlink\" href=\"#true\" title=\"Link to this heading\">¶</a>, <a class=\"headerlink\" href=\"#a-function\" title=\"Link to this heading\">¶</a>, <a class=\"headerlink\" href=\"#a-list\" title=\"Link to this heading\">¶</a>, <a class=\"headerlink\" href=\"#find-all\" title=\"Link to this heading\">¶</a>, <a class=\"reference internal\" href=\"#name\"><span class=\"std std-ref\">name</span></a>, <a class=\"reference internal\" href=\"#attrs\"><span class=\"std std-ref\">attrs</span></a>, <a class=\"reference internal\" href=\"#recursive\"><span class=\"std std-ref\">recursive</span></a>, <a class=\"reference internal\" href=\"#id11\"><span class=\"std std-ref\">string</span></a>, <a class=\"reference internal\" href=\"#limit\"><span class=\"std std-ref\">limit</span></a>, <a class=\"reference internal\" href=\"#kwargs\"><span class=\"std std-ref\">**kwargs</span></a>, <a class=\"reference internal\" href=\"#kinds-of-filters\">Kinds of filters</a>, <a class=\"headerlink\" href=\"#the-name-argument\" title=\"Link to this heading\">¶</a>, <a class=\"reference internal\" href=\"#kinds-of-filters\">Kinds of filters</a>, <a class=\"reference internal\" href=\"#a-string\">a\n",
            "string</a>, <a class=\"reference internal\" href=\"#a-regular-expression\">a regular expression</a>, <a class=\"reference internal\" href=\"#a-list\">a list</a>, <a class=\"reference internal\" href=\"#a-function\">a function</a>, <a class=\"reference internal\" href=\"#the-value-true\">the value\n",
            "True</a>, <a class=\"headerlink\" href=\"#the-keyword-arguments\" title=\"Link to this heading\">¶</a>, <a class=\"reference internal\" href=\"#a-string\">a string</a>, <a class=\"reference internal\" href=\"#a-regular-expression\">a regular expression</a>, <a class=\"reference internal\" href=\"#a-list\">a list</a>, <a class=\"reference internal\" href=\"#a-function\">a function</a>, <a class=\"reference internal\" href=\"#the-value-true\">the value True</a>, <a class=\"headerlink\" href=\"#searching-by-css-class\" title=\"Link to this heading\">¶</a>, <a class=\"reference internal\" href=\"#multivalue\"><span class=\"std std-ref\">Remember</span></a>, <a class=\"reference internal\" href=\"#css-selectors\"><span class=\"std std-ref\">described here</span></a>, <a class=\"headerlink\" href=\"#the-string-argument\" title=\"Link to this heading\">¶</a>, <a class=\"reference internal\" href=\"#a-string\">a string</a>, <a class=\"reference internal\" href=\"#a-regular-expression\">a\n",
            "regular expression</a>, <a class=\"reference internal\" href=\"#a-function\">a function</a>, <a class=\"reference internal\" href=\"#a-list\">a list</a>, <a class=\"reference internal\" href=\"#the-value-true\">the value True</a>, <a class=\"headerlink\" href=\"#the-limit-argument\" title=\"Link to this heading\">¶</a>, <a class=\"headerlink\" href=\"#the-recursive-argument\" title=\"Link to this heading\">¶</a>, <a class=\"headerlink\" href=\"#calling-a-tag-is-like-calling-find-all\" title=\"Link to this heading\">¶</a>, <a class=\"reference internal\" href=\"#Tag\" title=\"Tag\"><code class=\"xref py py-class docutils literal notranslate\"><span class=\"pre\">Tag</span></code></a>, <a class=\"headerlink\" href=\"#find\" title=\"Link to this heading\">¶</a>, <a class=\"reference internal\" href=\"#name\"><span class=\"std std-ref\">name</span></a>, <a class=\"reference internal\" href=\"#attrs\"><span class=\"std std-ref\">attrs</span></a>, <a class=\"reference internal\" href=\"#recursive\"><span class=\"std std-ref\">recursive</span></a>, <a class=\"reference internal\" href=\"#id11\"><span class=\"std std-ref\">string</span></a>, <a class=\"reference internal\" href=\"#kwargs\"><span class=\"std std-ref\">**kwargs</span></a>, <a class=\"reference internal\" href=\"#navigating-using-tag-names\">Navigating using tag\n",
            "names</a>, <a class=\"headerlink\" href=\"#find-parents-and-find-parent\" title=\"Link to this heading\">¶</a>, <a class=\"reference internal\" href=\"#name\"><span class=\"std std-ref\">name</span></a>, <a class=\"reference internal\" href=\"#attrs\"><span class=\"std std-ref\">attrs</span></a>, <a class=\"reference internal\" href=\"#id11\"><span class=\"std std-ref\">string</span></a>, <a class=\"reference internal\" href=\"#limit\"><span class=\"std std-ref\">limit</span></a>, <a class=\"reference internal\" href=\"#kwargs\"><span class=\"std std-ref\">**kwargs</span></a>, <a class=\"reference internal\" href=\"#name\"><span class=\"std std-ref\">name</span></a>, <a class=\"reference internal\" href=\"#attrs\"><span class=\"std std-ref\">attrs</span></a>, <a class=\"reference internal\" href=\"#id11\"><span class=\"std std-ref\">string</span></a>, <a class=\"reference internal\" href=\"#kwargs\"><span class=\"std std-ref\">**kwargs</span></a>, <a class=\"reference internal\" href=\"#parent\">.parent</a>, <a class=\"reference internal\" href=\"#parents\">.parents</a>, <a class=\"headerlink\" href=\"#find-next-siblings-and-find-next-sibling\" title=\"Link to this heading\">¶</a>, <a class=\"reference internal\" href=\"#name\"><span class=\"std std-ref\">name</span></a>, <a class=\"reference internal\" href=\"#attrs\"><span class=\"std std-ref\">attrs</span></a>, <a class=\"reference internal\" href=\"#id11\"><span class=\"std std-ref\">string</span></a>, <a class=\"reference internal\" href=\"#limit\"><span class=\"std std-ref\">limit</span></a>, <a class=\"reference internal\" href=\"#kwargs\"><span class=\"std std-ref\">**kwargs</span></a>, <a class=\"reference internal\" href=\"#name\"><span class=\"std std-ref\">name</span></a>, <a class=\"reference internal\" href=\"#attrs\"><span class=\"std std-ref\">attrs</span></a>, <a class=\"reference internal\" href=\"#id11\"><span class=\"std std-ref\">string</span></a>, <a class=\"reference internal\" href=\"#kwargs\"><span class=\"std std-ref\">**kwargs</span></a>, <a class=\"reference internal\" href=\"#sibling-generators\"><span class=\"std std-ref\">.next_siblings</span></a>, <a class=\"headerlink\" href=\"#find-previous-siblings-and-find-previous-sibling\" title=\"Link to this heading\">¶</a>, <a class=\"reference internal\" href=\"#name\"><span class=\"std std-ref\">name</span></a>, <a class=\"reference internal\" href=\"#attrs\"><span class=\"std std-ref\">attrs</span></a>, <a class=\"reference internal\" href=\"#id11\"><span class=\"std std-ref\">string</span></a>, <a class=\"reference internal\" href=\"#limit\"><span class=\"std std-ref\">limit</span></a>, <a class=\"reference internal\" href=\"#kwargs\"><span class=\"std std-ref\">**kwargs</span></a>, <a class=\"reference internal\" href=\"#name\"><span class=\"std std-ref\">name</span></a>, <a class=\"reference internal\" href=\"#attrs\"><span class=\"std std-ref\">attrs</span></a>, <a class=\"reference internal\" href=\"#id11\"><span class=\"std std-ref\">string</span></a>, <a class=\"reference internal\" href=\"#kwargs\"><span class=\"std std-ref\">**kwargs</span></a>, <a class=\"reference internal\" href=\"#sibling-generators\"><span class=\"std std-ref\">.previous_siblings</span></a>, <a class=\"headerlink\" href=\"#find-all-next-and-find-next\" title=\"Link to this heading\">¶</a>, <a class=\"reference internal\" href=\"#name\"><span class=\"std std-ref\">name</span></a>, <a class=\"reference internal\" href=\"#attrs\"><span class=\"std std-ref\">attrs</span></a>, <a class=\"reference internal\" href=\"#id11\"><span class=\"std std-ref\">string</span></a>, <a class=\"reference internal\" href=\"#limit\"><span class=\"std std-ref\">limit</span></a>, <a class=\"reference internal\" href=\"#kwargs\"><span class=\"std std-ref\">**kwargs</span></a>, <a class=\"reference internal\" href=\"#name\"><span class=\"std std-ref\">name</span></a>, <a class=\"reference internal\" href=\"#attrs\"><span class=\"std std-ref\">attrs</span></a>, <a class=\"reference internal\" href=\"#id11\"><span class=\"std std-ref\">string</span></a>, <a class=\"reference internal\" href=\"#kwargs\"><span class=\"std std-ref\">**kwargs</span></a>, <a class=\"reference internal\" href=\"#element-generators\"><span class=\"std std-ref\">.next_elements</span></a>, <a class=\"reference internal\" href=\"#document-order\"><span class=\"std std-ref\">document order</span></a>, <a class=\"headerlink\" href=\"#find-all-previous-and-find-previous\" title=\"Link to this heading\">¶</a>, <a class=\"reference internal\" href=\"#name\"><span class=\"std std-ref\">name</span></a>, <a class=\"reference internal\" href=\"#attrs\"><span class=\"std std-ref\">attrs</span></a>, <a class=\"reference internal\" href=\"#id11\"><span class=\"std std-ref\">string</span></a>, <a class=\"reference internal\" href=\"#limit\"><span class=\"std std-ref\">limit</span></a>, <a class=\"reference internal\" href=\"#kwargs\"><span class=\"std std-ref\">**kwargs</span></a>, <a class=\"reference internal\" href=\"#name\"><span class=\"std std-ref\">name</span></a>, <a class=\"reference internal\" href=\"#attrs\"><span class=\"std std-ref\">attrs</span></a>, <a class=\"reference internal\" href=\"#id11\"><span class=\"std std-ref\">string</span></a>, <a class=\"reference internal\" href=\"#kwargs\"><span class=\"std std-ref\">**kwargs</span></a>, <a class=\"reference internal\" href=\"#element-generators\"><span class=\"std std-ref\">.previous_elements</span></a>, <a class=\"reference internal\" href=\"#document-order\"><span class=\"std std-ref\">document order</span></a>, <a class=\"headerlink\" href=\"#css-selectors-through-the-css-property\" title=\"Link to this heading\">¶</a>, <a class=\"reference internal\" href=\"#Tag\" title=\"Tag\"><code class=\"xref py py-class docutils literal notranslate\"><span class=\"pre\">Tag</span></code></a>, <a class=\"reference external\" href=\"https://facelessuser.github.io/soupsieve/\">Soup Sieve</a>, <a class=\"reference external\" href=\"https://facelessuser.github.io/soupsieve/selectors/\">all the currently supported CSS\n",
            "selectors</a>, <a class=\"reference internal\" href=\"#Tag\" title=\"Tag\"><code class=\"xref py py-class docutils literal notranslate\"><span class=\"pre\">Tag</span></code></a>, <a class=\"headerlink\" href=\"#advanced-soup-sieve-features\" title=\"Link to this heading\">¶</a>, <a class=\"reference internal\" href=\"#Tag\" title=\"Tag\"><code class=\"xref py py-class docutils literal notranslate\"><span class=\"pre\">Tag</span></code></a>, <a class=\"reference external\" href=\"https://facelessuser.github.io/soupsieve/\">the Soup Sieve\n",
            "documentation</a>, <a class=\"reference internal\" href=\"#Tag\" title=\"Tag\"><code class=\"xref py py-class docutils literal notranslate\"><span class=\"pre\">Tag</span></code></a>, <a class=\"reference internal\" href=\"#Tag\" title=\"Tag\"><code class=\"xref py py-class docutils literal notranslate\"><span class=\"pre\">Tag</span></code></a>, <a class=\"headerlink\" href=\"#namespaces-in-css-selectors\" title=\"Link to this heading\">¶</a>, <a class=\"headerlink\" href=\"#history-of-css-selector-support\" title=\"Link to this heading\">¶</a>, <a class=\"headerlink\" href=\"#modifying-the-tree\" title=\"Link to this heading\">¶</a>, <a class=\"headerlink\" href=\"#changing-tag-names-and-attributes\" title=\"Link to this heading\">¶</a>, <a class=\"reference internal\" href=\"#Tag.attrs\" title=\"Tag.attrs\"><code class=\"xref py py-attr docutils literal notranslate\"><span class=\"pre\">Tag.attrs</span></code></a>, <a class=\"headerlink\" href=\"#modifying-string\" title=\"Link to this heading\">¶</a>, <a class=\"headerlink\" href=\"#append\" title=\"Link to this heading\">¶</a>, <a class=\"headerlink\" href=\"#extend\" title=\"Link to this heading\">¶</a>, <a class=\"reference internal\" href=\"#Tag\" title=\"Tag\"><code class=\"xref py py-class docutils literal notranslate\"><span class=\"pre\">Tag</span></code></a>, <a class=\"reference internal\" href=\"#Tag\" title=\"Tag\"><code class=\"xref py py-class docutils literal notranslate\"><span class=\"pre\">Tag</span></code></a>, <a class=\"headerlink\" href=\"#navigablestring-and-new-tag\" title=\"Link to this heading\">¶</a>, <a class=\"reference internal\" href=\"#NavigableString\" title=\"NavigableString\"><code class=\"xref py py-class docutils literal notranslate\"><span class=\"pre\">NavigableString</span></code></a>, <a class=\"reference internal\" href=\"#NavigableString\" title=\"NavigableString\"><code class=\"xref py py-class docutils literal notranslate\"><span class=\"pre\">NavigableString</span></code></a>, <a class=\"headerlink\" href=\"#insert\" title=\"Link to this heading\">¶</a>, <a class=\"headerlink\" href=\"#insert-before-and-insert-after\" title=\"Link to this heading\">¶</a>, <a class=\"headerlink\" href=\"#clear\" title=\"Link to this heading\">¶</a>, <a class=\"headerlink\" href=\"#extract\" title=\"Link to this heading\">¶</a>, <a class=\"headerlink\" href=\"#decompose\" title=\"Link to this heading\">¶</a>, <a class=\"reference internal\" href=\"#Tag\" title=\"Tag\"><code class=\"xref py py-class docutils literal notranslate\"><span class=\"pre\">Tag</span></code></a>, <a class=\"reference internal\" href=\"#NavigableString\" title=\"NavigableString\"><code class=\"xref py py-class docutils literal notranslate\"><span class=\"pre\">NavigableString</span></code></a>, <a class=\"headerlink\" href=\"#replace-with\" title=\"Link to this heading\">¶</a>, <a class=\"headerlink\" href=\"#wrap\" title=\"Link to this heading\">¶</a>, <a class=\"reference internal\" href=\"#Tag\" title=\"Tag\"><code class=\"xref py py-class docutils literal notranslate\"><span class=\"pre\">Tag</span></code></a>, <a class=\"headerlink\" href=\"#unwrap\" title=\"Link to this heading\">¶</a>, <a class=\"headerlink\" href=\"#smooth\" title=\"Link to this heading\">¶</a>, <a class=\"reference internal\" href=\"#NavigableString\" title=\"NavigableString\"><code class=\"xref py py-class docutils literal notranslate\"><span class=\"pre\">NavigableString</span></code></a>, <a class=\"headerlink\" href=\"#output\" title=\"Link to this heading\">¶</a>, <a class=\"headerlink\" href=\"#pretty-printing\" title=\"Link to this heading\">¶</a>, <a class=\"reference internal\" href=\"#Tag\" title=\"Tag\"><code class=\"xref py py-class docutils literal notranslate\"><span class=\"pre\">Tag</span></code></a>, <a class=\"headerlink\" href=\"#non-pretty-printing\" title=\"Link to this heading\">¶</a>, <a class=\"reference internal\" href=\"#Tag\" title=\"Tag\"><code class=\"xref py py-class docutils literal notranslate\"><span class=\"pre\">Tag</span></code></a>, <a class=\"reference internal\" href=\"#encodings\">Encodings</a>, <a class=\"headerlink\" href=\"#output-formatters\" title=\"Link to this heading\">¶</a>, <a class=\"headerlink\" href=\"#formatter-objects\" title=\"Link to this heading\">¶</a>, <a class=\"headerlink\" href=\"#HTMLFormatter\" title=\"Link to this definition\">¶</a>, <a class=\"headerlink\" href=\"#XMLFormatter\" title=\"Link to this definition\">¶</a>, <a class=\"headerlink\" href=\"#writing-your-own-formatter\" title=\"Link to this heading\">¶</a>, <a class=\"reference internal\" href=\"#HTMLFormatter\" title=\"HTMLFormatter\"><code class=\"xref py py-class docutils literal notranslate\"><span class=\"pre\">HTMLFormatter</span></code></a>, <a class=\"reference internal\" href=\"#XMLFormatter\" title=\"XMLFormatter\"><code class=\"xref py py-class docutils literal notranslate\"><span class=\"pre\">XMLFormatter</span></code></a>, <a class=\"reference internal\" href=\"#CData\" title=\"CData\"><code class=\"xref py py-class docutils literal notranslate\"><span class=\"pre\">CData</span></code></a>, <a class=\"headerlink\" href=\"#get-text\" title=\"Link to this heading\">¶</a>, <a class=\"reference internal\" href=\"#string-generators\"><span class=\"std std-ref\">.stripped_strings</span></a>, <a class=\"headerlink\" href=\"#specifying-the-parser-to-use\" title=\"Link to this heading\">¶</a>, <a class=\"reference internal\" href=\"#installing-a-parser\">Installing a parser</a>, <a class=\"headerlink\" href=\"#differences-between-parsers\" title=\"Link to this heading\">¶</a>, <a class=\"headerlink\" href=\"#encodings\" title=\"Link to this heading\">¶</a>, <a class=\"reference internal\" href=\"#unicode-dammit\">Unicode, Dammit</a>, <a class=\"headerlink\" href=\"#output-encoding\" title=\"Link to this heading\">¶</a>, <a class=\"headerlink\" href=\"#unicode-dammit\" title=\"Link to this heading\">¶</a>, <a class=\"headerlink\" href=\"#smart-quotes\" title=\"Link to this heading\">¶</a>, <a class=\"headerlink\" href=\"#inconsistent-encodings\" title=\"Link to this heading\">¶</a>, <a class=\"headerlink\" href=\"#line-numbers\" title=\"Link to this heading\">¶</a>, <a class=\"reference internal\" href=\"#Tag\" title=\"Tag\"><code class=\"xref py py-class docutils literal notranslate\"><span class=\"pre\">Tag</span></code></a>, <a class=\"headerlink\" href=\"#comparing-objects-for-equality\" title=\"Link to this heading\">¶</a>, <a class=\"reference internal\" href=\"#NavigableString\" title=\"NavigableString\"><code class=\"xref py py-class docutils literal notranslate\"><span class=\"pre\">NavigableString</span></code></a>, <a class=\"reference internal\" href=\"#Tag\" title=\"Tag\"><code class=\"xref py py-class docutils literal notranslate\"><span class=\"pre\">Tag</span></code></a>, <a class=\"headerlink\" href=\"#copying-beautiful-soup-objects\" title=\"Link to this heading\">¶</a>, <a class=\"reference internal\" href=\"#Tag\" title=\"Tag\"><code class=\"xref py py-class docutils literal notranslate\"><span class=\"pre\">Tag</span></code></a>, <a class=\"reference internal\" href=\"#NavigableString\" title=\"NavigableString\"><code class=\"xref py py-class docutils literal notranslate\"><span class=\"pre\">NavigableString</span></code></a>, <a class=\"reference internal\" href=\"#Tag\" title=\"Tag\"><code class=\"xref py py-class docutils literal notranslate\"><span class=\"pre\">Tag</span></code></a>, <a class=\"reference internal\" href=\"#Tag\" title=\"Tag\"><code class=\"xref py py-class docutils literal notranslate\"><span class=\"pre\">Tag</span></code></a>, <a class=\"headerlink\" href=\"#low-level-search-interface\" title=\"Link to this heading\">¶</a>, <a class=\"reference internal\" href=\"#searching-the-tree\">Searching the tree</a>, <a class=\"headerlink\" href=\"#custom-element-filtering\" title=\"Link to this heading\">¶</a>, <a class=\"headerlink\" href=\"#ElementFilter\" title=\"Link to this definition\">¶</a>, <a class=\"reference internal\" href=\"#ElementFilter\" title=\"ElementFilter\"><code class=\"xref py py-class docutils literal notranslate\"><span class=\"pre\">ElementFilter</span></code></a>, <a class=\"reference internal\" href=\"#Tag\" title=\"Tag\"><code class=\"xref py py-class docutils literal notranslate\"><span class=\"pre\">Tag</span></code></a>, <a class=\"reference internal\" href=\"#NavigableString\" title=\"NavigableString\"><code class=\"xref py py-class docutils literal notranslate\"><span class=\"pre\">NavigableString</span></code></a>, <a class=\"reference internal\" href=\"#ElementFilter\" title=\"ElementFilter\"><code class=\"xref py py-class docutils literal notranslate\"><span class=\"pre\">ElementFilter</span></code></a>, <a class=\"reference internal\" href=\"#ElementFilter\" title=\"ElementFilter\"><code class=\"xref py py-class docutils literal notranslate\"><span class=\"pre\">ElementFilter</span></code></a>, <a class=\"reference internal\" href=\"#searching-the-tree\">Searching the tree</a>, <a class=\"reference internal\" href=\"#Tag\" title=\"Tag\"><code class=\"xref py py-class docutils literal notranslate\"><span class=\"pre\">Tag</span></code></a>, <a class=\"reference internal\" href=\"#NavigableString\" title=\"NavigableString\"><code class=\"xref py py-class docutils literal notranslate\"><span class=\"pre\">NavigableString</span></code></a>, <a class=\"reference internal\" href=\"#ElementFilter\" title=\"ElementFilter\"><code class=\"xref py py-class docutils literal notranslate\"><span class=\"pre\">ElementFilter</span></code></a>, <a class=\"reference internal\" href=\"#Tag\" title=\"Tag\"><code class=\"xref py py-class docutils literal notranslate\"><span class=\"pre\">Tag</span></code></a>, <a class=\"reference internal\" href=\"#NavigableString\" title=\"NavigableString\"><code class=\"xref py py-class docutils literal notranslate\"><span class=\"pre\">NavigableString</span></code></a>, <a class=\"headerlink\" href=\"#custom-element-iteration\" title=\"Link to this heading\">¶</a>, <a class=\"headerlink\" href=\"#ElementFilter.filter\" title=\"Link to this definition\">¶</a>, <a class=\"reference internal\" href=\"#ElementFilter\" title=\"ElementFilter\"><code class=\"xref py py-class docutils literal notranslate\"><span class=\"pre\">ElementFilter</span></code></a>, <a class=\"reference internal\" href=\"#ElementFilter.filter\" title=\"ElementFilter.filter\"><code class=\"xref py py-meth docutils literal notranslate\"><span class=\"pre\">ElementFilter.filter()</span></code></a>, <a class=\"reference internal\" href=\"#ElementFilter.filter\" title=\"ElementFilter.filter\"><code class=\"xref py py-meth docutils literal notranslate\"><span class=\"pre\">ElementFilter.filter()</span></code></a>, <a class=\"reference internal\" href=\"#ElementFilter.filter\" title=\"ElementFilter.filter\"><code class=\"xref py py-meth docutils literal notranslate\"><span class=\"pre\">ElementFilter.filter()</span></code></a>, <a class=\"headerlink\" href=\"#advanced-parser-customization\" title=\"Link to this heading\">¶</a>, <a class=\"headerlink\" href=\"#parsing-only-part-of-a-document\" title=\"Link to this heading\">¶</a>, <a class=\"reference internal\" href=\"#SoupStrainer\" title=\"SoupStrainer\"><code class=\"xref py py-class docutils literal notranslate\"><span class=\"pre\">SoupStrainer</span></code></a>, <a class=\"reference internal\" href=\"#SoupStrainer\" title=\"SoupStrainer\"><code class=\"xref py py-class docutils literal notranslate\"><span class=\"pre\">SoupStrainer</span></code></a>, <a class=\"headerlink\" href=\"#SoupStrainer\" title=\"Link to this definition\">¶</a>, <a class=\"reference internal\" href=\"#SoupStrainer\" title=\"SoupStrainer\"><code class=\"xref py py-class docutils literal notranslate\"><span class=\"pre\">SoupStrainer</span></code></a>, <a class=\"reference internal\" href=\"#searching-the-tree\">Searching the tree</a>, <a class=\"reference internal\" href=\"#name\"><span class=\"std std-ref\">name</span></a>, <a class=\"reference internal\" href=\"#attrs\"><span class=\"std std-ref\">attrs</span></a>, <a class=\"reference internal\" href=\"#id11\"><span class=\"std std-ref\">string</span></a>, <a class=\"reference internal\" href=\"#kwargs\"><span class=\"std std-ref\">**kwargs</span></a>, <a class=\"reference internal\" href=\"#SoupStrainer\" title=\"SoupStrainer\"><code class=\"xref py py-class docutils literal notranslate\"><span class=\"pre\">SoupStrainer</span></code></a>, <a class=\"reference internal\" href=\"#SoupStrainer\" title=\"SoupStrainer\"><code class=\"xref py py-class docutils literal notranslate\"><span class=\"pre\">SoupStrainer</span></code></a>, <a class=\"reference internal\" href=\"#SoupStrainer\" title=\"SoupStrainer\"><code class=\"xref py py-class docutils literal notranslate\"><span class=\"pre\">SoupStrainer</span></code></a>, <a class=\"headerlink\" href=\"#customizing-multi-valued-attributes\" title=\"Link to this heading\">¶</a>, <a class=\"headerlink\" href=\"#handling-duplicate-attributes\" title=\"Link to this heading\">¶</a>, <a class=\"headerlink\" href=\"#instantiating-custom-subclasses\" title=\"Link to this heading\">¶</a>, <a class=\"reference internal\" href=\"#Tag\" title=\"Tag\"><code class=\"xref py py-class docutils literal notranslate\"><span class=\"pre\">Tag</span></code></a>, <a class=\"reference internal\" href=\"#NavigableString\" title=\"NavigableString\"><code class=\"xref py py-class docutils literal notranslate\"><span class=\"pre\">NavigableString</span></code></a>, <a class=\"reference internal\" href=\"#Tag\" title=\"Tag\"><code class=\"xref py py-class docutils literal notranslate\"><span class=\"pre\">Tag</span></code></a>, <a class=\"reference internal\" href=\"#NavigableString\" title=\"NavigableString\"><code class=\"xref py py-class docutils literal notranslate\"><span class=\"pre\">NavigableString</span></code></a>, <a class=\"headerlink\" href=\"#troubleshooting\" title=\"Link to this heading\">¶</a>, <a class=\"headerlink\" href=\"#diagnose\" title=\"Link to this heading\">¶</a>, <a class=\"headerlink\" href=\"#errors-when-parsing-a-document\" title=\"Link to this heading\">¶</a>, <a class=\"reference internal\" href=\"#installing-a-parser\">Installing a parser</a>, <a class=\"headerlink\" href=\"#version-mismatch-problems\" title=\"Link to this heading\">¶</a>, <a class=\"headerlink\" href=\"#parsing-xml\" title=\"Link to this heading\">¶</a>, <a class=\"reference internal\" href=\"#parser-installation\"><span class=\"std std-ref\">have lxml installed</span></a>, <a class=\"headerlink\" href=\"#other-parser-problems\" title=\"Link to this heading\">¶</a>, <a class=\"reference internal\" href=\"#differences-between-parsers\">Differences between parsers</a>, <a class=\"reference external\" href=\"http://www.w3.org/TR/html5/syntax.html#syntax\">HTML tags and attributes are case-insensitive</a>, <a class=\"reference internal\" href=\"#parsing-xml\"><span class=\"std std-ref\">parse the document as XML.</span></a>, <a class=\"headerlink\" href=\"#miscellaneous\" title=\"Link to this heading\">¶</a>, <a class=\"reference external\" href=\"http://wiki.python.org/moin/PrintFails\">this page on the\n",
            "Python wiki</a>, <a class=\"headerlink\" href=\"#improving-performance\" title=\"Link to this heading\">¶</a>, <a class=\"reference external\" href=\"http://lxml.de/\">lxml</a>, <a class=\"reference internal\" href=\"#parser-installation\"><span class=\"std std-ref\">start</span></a>, <a class=\"reference external\" href=\"http://pypi.python.org/pypi/cchardet/\">cchardet</a>, <a class=\"reference internal\" href=\"#parsing-only-part-of-a-document\">Parsing only part of a document</a>, <a class=\"headerlink\" href=\"#translating-this-documentation\" title=\"Link to this heading\">¶</a>, <a class=\"headerlink\" href=\"#id16\" title=\"Link to this heading\">¶</a>, <a class=\"reference external\" href=\"https://www.crummy.com/software/BeautifulSoup/download/3.x/BeautifulSoup-3.2.2.tar.gz\">a tarball of the final release, 3.2.2</a>, <a class=\"reference external\" href=\"http://www.crummy.com/software/BeautifulSoup/bs3/documentation.html\">The documentation for Beautiful Soup 3 is archived online</a>, <a class=\"headerlink\" href=\"#porting-code-to-bs4\" title=\"Link to this heading\">¶</a>, <a class=\"reference external\" href=\"http://www.python.org/dev/peps/pep-0008/\">PEP 8 compliance</a>, <a class=\"headerlink\" href=\"#you-need-a-parser\" title=\"Link to this heading\">¶</a>, <a class=\"reference internal\" href=\"#installing-a-parser\">Installing a parser</a>, <a class=\"headerlink\" href=\"#property-names\" title=\"Link to this heading\">¶</a>, <a class=\"headerlink\" href=\"#generators\" title=\"Link to this heading\">¶</a>, <a class=\"headerlink\" href=\"#xml\" title=\"Link to this heading\">¶</a>, <a class=\"headerlink\" href=\"#entities\" title=\"Link to this heading\">¶</a>, <a class=\"reference internal\" href=\"#unicode-dammit\">Unicode,\n",
            "Dammit</a>, <a class=\"reference internal\" href=\"#output-formatters\"><span class=\"std std-ref\">output formatter</span></a>, <a class=\"headerlink\" href=\"#id17\" title=\"Link to this heading\">¶</a>, <a class=\"reference internal\" href=\"#string\"><span class=\"std std-ref\">Tag.string</span></a>, <a class=\"reference internal\" href=\"#multi-valued-attributes\">Multi-valued attributes</a>, <a class=\"reference internal\" href=\"#Tag\" title=\"Tag\"><code class=\"xref py py-class docutils literal notranslate\"><span class=\"pre\">Tag</span></code></a>, <a class=\"reference internal\" href=\"#Tag\" title=\"Tag\"><code class=\"xref py py-class docutils literal notranslate\"><span class=\"pre\">Tag</span></code></a>, <a class=\"reference internal\" href=\"#Tag\" title=\"Tag\"><code class=\"xref py py-class docutils literal notranslate\"><span class=\"pre\">Tag</span></code></a>, <a class=\"reference internal\" href=\"#id11\"><span class=\"std std-ref\">string</span></a>, <a class=\"reference internal\" href=\"#name\"><span class=\"std std-ref\">name</span></a>, <a class=\"reference internal\" href=\"#string\"><span class=\"std std-ref\">Tag.string</span></a>, <a class=\"reference internal\" href=\"#id11\"><span class=\"std std-ref\">string</span></a>, <a href=\"#\">Table of Contents</a>, <a class=\"reference internal\" href=\"#\">Beautiful Soup Documentation</a>, <a class=\"reference internal\" href=\"#getting-help\">Getting help</a>, <a class=\"reference internal\" href=\"#api-documentation\">API documentation</a>, <a class=\"reference internal\" href=\"#quick-start\">Quick Start</a>, <a class=\"reference internal\" href=\"#installing-beautiful-soup\">Installing Beautiful Soup</a>, <a class=\"reference internal\" href=\"#installing-a-parser\">Installing a parser</a>, <a class=\"reference internal\" href=\"#making-the-soup\">Making the soup</a>, <a class=\"reference internal\" href=\"#kinds-of-objects\">Kinds of objects</a>, <a class=\"reference internal\" href=\"#Tag\"><code class=\"docutils literal notranslate\"><span class=\"pre\">Tag</span></code></a>, <a class=\"reference internal\" href=\"#Tag.name\"><code class=\"docutils literal notranslate\"><span class=\"pre\">Tag.name</span></code></a>, <a class=\"reference internal\" href=\"#Tag.attrs\"><code class=\"docutils literal notranslate\"><span class=\"pre\">Tag.attrs</span></code></a>, <a class=\"reference internal\" href=\"#NavigableString\"><code class=\"docutils literal notranslate\"><span class=\"pre\">NavigableString</span></code></a>, <a class=\"reference internal\" href=\"#special-strings\">Special strings</a>, <a class=\"reference internal\" href=\"#Comment\"><code class=\"docutils literal notranslate\"><span class=\"pre\">Comment</span></code></a>, <a class=\"reference internal\" href=\"#for-html-documents\">For HTML documents</a>, <a class=\"reference internal\" href=\"#Stylesheet\"><code class=\"docutils literal notranslate\"><span class=\"pre\">Stylesheet</span></code></a>, <a class=\"reference internal\" href=\"#Script\"><code class=\"docutils literal notranslate\"><span class=\"pre\">Script</span></code></a>, <a class=\"reference internal\" href=\"#Template\"><code class=\"docutils literal notranslate\"><span class=\"pre\">Template</span></code></a>, <a class=\"reference internal\" href=\"#for-xml-documents\">For XML documents</a>, <a class=\"reference internal\" href=\"#Declaration\"><code class=\"docutils literal notranslate\"><span class=\"pre\">Declaration</span></code></a>, <a class=\"reference internal\" href=\"#Doctype\"><code class=\"docutils literal notranslate\"><span class=\"pre\">Doctype</span></code></a>, <a class=\"reference internal\" href=\"#CData\"><code class=\"docutils literal notranslate\"><span class=\"pre\">CData</span></code></a>, <a class=\"reference internal\" href=\"#ProcessingInstruction\"><code class=\"docutils literal notranslate\"><span class=\"pre\">ProcessingInstruction</span></code></a>, <a class=\"reference internal\" href=\"#navigating-the-tree\">Navigating the tree</a>, <a class=\"reference internal\" href=\"#going-down\">Going down</a>, <a class=\"reference internal\" href=\"#navigating-using-tag-names\">Navigating using tag names</a>, <a class=\"reference internal\" href=\"#contents-and-children\"><code class=\"docutils literal notranslate\"><span class=\"pre\">.contents</span></code> and <code class=\"docutils literal notranslate\"><span class=\"pre\">.children</span></code></a>, <a class=\"reference internal\" href=\"#descendants\"><code class=\"docutils literal notranslate\"><span class=\"pre\">.descendants</span></code></a>, <a class=\"reference internal\" href=\"#string\"><code class=\"docutils literal notranslate\"><span class=\"pre\">.string</span></code></a>, <a class=\"reference internal\" href=\"#strings-and-stripped-strings\"><code class=\"docutils literal notranslate\"><span class=\"pre\">.strings</span></code> and <code class=\"docutils literal notranslate\"><span class=\"pre\">stripped_strings</span></code></a>, <a class=\"reference internal\" href=\"#going-up\">Going up</a>, <a class=\"reference internal\" href=\"#parent\"><code class=\"docutils literal notranslate\"><span class=\"pre\">.parent</span></code></a>, <a class=\"reference internal\" href=\"#parents\"><code class=\"docutils literal notranslate\"><span class=\"pre\">.parents</span></code></a>, <a class=\"reference internal\" href=\"#self-and-parents\"><code class=\"docutils literal notranslate\"><span class=\"pre\">.self_and_parents</span></code></a>, <a class=\"reference internal\" href=\"#going-sideways\">Going sideways</a>, <a class=\"reference internal\" href=\"#next-sibling-and-previous-sibling\"><code class=\"docutils literal notranslate\"><span class=\"pre\">.next_sibling</span></code> and <code class=\"docutils literal notranslate\"><span class=\"pre\">.previous_sibling</span></code></a>, <a class=\"reference internal\" href=\"#next-siblings-and-previous-siblings\"><code class=\"docutils literal notranslate\"><span class=\"pre\">.next_siblings</span></code> and <code class=\"docutils literal notranslate\"><span class=\"pre\">.previous_siblings</span></code></a>, <a class=\"reference internal\" href=\"#going-back-and-forth\">Going back and forth</a>, <a class=\"reference internal\" href=\"#next-element-and-previous-element\"><code class=\"docutils literal notranslate\"><span class=\"pre\">.next_element</span></code> and <code class=\"docutils literal notranslate\"><span class=\"pre\">.previous_element</span></code></a>, <a class=\"reference internal\" href=\"#next-elements-and-previous-elements\"><code class=\"docutils literal notranslate\"><span class=\"pre\">.next_elements</span></code> and <code class=\"docutils literal notranslate\"><span class=\"pre\">.previous_elements</span></code></a>, <a class=\"reference internal\" href=\"#searching-the-tree\">Searching the tree</a>, <a class=\"reference internal\" href=\"#kinds-of-filters\">Kinds of filters</a>, <a class=\"reference internal\" href=\"#a-string\">A string</a>, <a class=\"reference internal\" href=\"#a-regular-expression\">A regular expression</a>, <a class=\"reference internal\" href=\"#true\"><code class=\"docutils literal notranslate\"><span class=\"pre\">True</span></code></a>, <a class=\"reference internal\" href=\"#a-function\">A function</a>, <a class=\"reference internal\" href=\"#a-list\">A list</a>, <a class=\"reference internal\" href=\"#find-all\"><code class=\"docutils literal notranslate\"><span class=\"pre\">find_all()</span></code></a>, <a class=\"reference internal\" href=\"#the-name-argument\">The <code class=\"docutils literal notranslate\"><span class=\"pre\">name</span></code> argument</a>, <a class=\"reference internal\" href=\"#the-keyword-arguments\">The keyword arguments</a>, <a class=\"reference internal\" href=\"#searching-by-css-class\">Searching by CSS class</a>, <a class=\"reference internal\" href=\"#the-string-argument\">The <code class=\"docutils literal notranslate\"><span class=\"pre\">string</span></code> argument</a>, <a class=\"reference internal\" href=\"#the-limit-argument\">The <code class=\"docutils literal notranslate\"><span class=\"pre\">limit</span></code> argument</a>, <a class=\"reference internal\" href=\"#the-recursive-argument\">The <code class=\"docutils literal notranslate\"><span class=\"pre\">recursive</span></code> argument</a>, <a class=\"reference internal\" href=\"#calling-a-tag-is-like-calling-find-all\">Calling a tag is like calling <code class=\"docutils literal notranslate\"><span class=\"pre\">find_all()</span></code></a>, <a class=\"reference internal\" href=\"#find\"><code class=\"docutils literal notranslate\"><span class=\"pre\">find()</span></code></a>, <a class=\"reference internal\" href=\"#find-parents-and-find-parent\"><code class=\"docutils literal notranslate\"><span class=\"pre\">find_parents()</span></code> and <code class=\"docutils literal notranslate\"><span class=\"pre\">find_parent()</span></code></a>, <a class=\"reference internal\" href=\"#find-next-siblings-and-find-next-sibling\"><code class=\"docutils literal notranslate\"><span class=\"pre\">find_next_siblings()</span></code> and <code class=\"docutils literal notranslate\"><span class=\"pre\">find_next_sibling()</span></code></a>, <a class=\"reference internal\" href=\"#find-previous-siblings-and-find-previous-sibling\"><code class=\"docutils literal notranslate\"><span class=\"pre\">find_previous_siblings()</span></code> and <code class=\"docutils literal notranslate\"><span class=\"pre\">find_previous_sibling()</span></code></a>, <a class=\"reference internal\" href=\"#find-all-next-and-find-next\"><code class=\"docutils literal notranslate\"><span class=\"pre\">find_all_next()</span></code> and <code class=\"docutils literal notranslate\"><span class=\"pre\">find_next()</span></code></a>, <a class=\"reference internal\" href=\"#find-all-previous-and-find-previous\"><code class=\"docutils literal notranslate\"><span class=\"pre\">find_all_previous()</span></code> and <code class=\"docutils literal notranslate\"><span class=\"pre\">find_previous()</span></code></a>, <a class=\"reference internal\" href=\"#css-selectors-through-the-css-property\">CSS selectors through the <code class=\"docutils literal notranslate\"><span class=\"pre\">.css</span></code> property</a>, <a class=\"reference internal\" href=\"#advanced-soup-sieve-features\">Advanced Soup Sieve features</a>, <a class=\"reference internal\" href=\"#namespaces-in-css-selectors\">Namespaces in CSS selectors</a>, <a class=\"reference internal\" href=\"#history-of-css-selector-support\">History of CSS selector support</a>, <a class=\"reference internal\" href=\"#modifying-the-tree\">Modifying the tree</a>, <a class=\"reference internal\" href=\"#changing-tag-names-and-attributes\">Changing tag names and attributes</a>, <a class=\"reference internal\" href=\"#modifying-string\">Modifying <code class=\"docutils literal notranslate\"><span class=\"pre\">.string</span></code></a>, <a class=\"reference internal\" href=\"#append\"><code class=\"docutils literal notranslate\"><span class=\"pre\">append()</span></code></a>, <a class=\"reference internal\" href=\"#extend\"><code class=\"docutils literal notranslate\"><span class=\"pre\">extend()</span></code></a>, <a class=\"reference internal\" href=\"#navigablestring-and-new-tag\"><code class=\"docutils literal notranslate\"><span class=\"pre\">NavigableString()</span></code> and <code class=\"docutils literal notranslate\"><span class=\"pre\">.new_tag()</span></code></a>, <a class=\"reference internal\" href=\"#insert\"><code class=\"docutils literal notranslate\"><span class=\"pre\">insert()</span></code></a>, <a class=\"reference internal\" href=\"#insert-before-and-insert-after\"><code class=\"docutils literal notranslate\"><span class=\"pre\">insert_before()</span></code> and <code class=\"docutils literal notranslate\"><span class=\"pre\">insert_after()</span></code></a>, <a class=\"reference internal\" href=\"#clear\"><code class=\"docutils literal notranslate\"><span class=\"pre\">clear()</span></code></a>, <a class=\"reference internal\" href=\"#extract\"><code class=\"docutils literal notranslate\"><span class=\"pre\">extract()</span></code></a>, <a class=\"reference internal\" href=\"#decompose\"><code class=\"docutils literal notranslate\"><span class=\"pre\">decompose()</span></code></a>, <a class=\"reference internal\" href=\"#replace-with\"><code class=\"docutils literal notranslate\"><span class=\"pre\">replace_with()</span></code></a>, <a class=\"reference internal\" href=\"#wrap\"><code class=\"docutils literal notranslate\"><span class=\"pre\">wrap()</span></code></a>, <a class=\"reference internal\" href=\"#unwrap\"><code class=\"docutils literal notranslate\"><span class=\"pre\">unwrap()</span></code></a>, <a class=\"reference internal\" href=\"#smooth\"><code class=\"docutils literal notranslate\"><span class=\"pre\">smooth()</span></code></a>, <a class=\"reference internal\" href=\"#output\">Output</a>, <a class=\"reference internal\" href=\"#pretty-printing\">Pretty-printing</a>, <a class=\"reference internal\" href=\"#non-pretty-printing\">Non-pretty printing</a>, <a class=\"reference internal\" href=\"#output-formatters\">Output formatters</a>, <a class=\"reference internal\" href=\"#formatter-objects\">Formatter objects</a>, <a class=\"reference internal\" href=\"#HTMLFormatter\"><code class=\"docutils literal notranslate\"><span class=\"pre\">HTMLFormatter</span></code></a>, <a class=\"reference internal\" href=\"#XMLFormatter\"><code class=\"docutils literal notranslate\"><span class=\"pre\">XMLFormatter</span></code></a>, <a class=\"reference internal\" href=\"#writing-your-own-formatter\">Writing your own formatter</a>, <a class=\"reference internal\" href=\"#get-text\"><code class=\"docutils literal notranslate\"><span class=\"pre\">get_text()</span></code></a>, <a class=\"reference internal\" href=\"#specifying-the-parser-to-use\">Specifying the parser to use</a>, <a class=\"reference internal\" href=\"#differences-between-parsers\">Differences between parsers</a>, <a class=\"reference internal\" href=\"#encodings\">Encodings</a>, <a class=\"reference internal\" href=\"#output-encoding\">Output encoding</a>, <a class=\"reference internal\" href=\"#unicode-dammit\">Unicode, Dammit</a>, <a class=\"reference internal\" href=\"#smart-quotes\">Smart quotes</a>, <a class=\"reference internal\" href=\"#inconsistent-encodings\">Inconsistent encodings</a>, <a class=\"reference internal\" href=\"#line-numbers\">Line numbers</a>, <a class=\"reference internal\" href=\"#comparing-objects-for-equality\">Comparing objects for equality</a>, <a class=\"reference internal\" href=\"#copying-beautiful-soup-objects\">Copying Beautiful Soup objects</a>, <a class=\"reference internal\" href=\"#low-level-search-interface\">Low-level search interface</a>, <a class=\"reference internal\" href=\"#custom-element-filtering\">Custom element filtering</a>, <a class=\"reference internal\" href=\"#ElementFilter\"><code class=\"docutils literal notranslate\"><span class=\"pre\">ElementFilter</span></code></a>, <a class=\"reference internal\" href=\"#custom-element-iteration\">Custom element iteration</a>, <a class=\"reference internal\" href=\"#ElementFilter.filter\"><code class=\"docutils literal notranslate\"><span class=\"pre\">ElementFilter.filter()</span></code></a>, <a class=\"reference internal\" href=\"#advanced-parser-customization\">Advanced parser customization</a>, <a class=\"reference internal\" href=\"#parsing-only-part-of-a-document\">Parsing only part of a document</a>, <a class=\"reference internal\" href=\"#SoupStrainer\"><code class=\"docutils literal notranslate\"><span class=\"pre\">SoupStrainer</span></code></a>, <a class=\"reference internal\" href=\"#customizing-multi-valued-attributes\">Customizing multi-valued attributes</a>, <a class=\"reference internal\" href=\"#handling-duplicate-attributes\">Handling duplicate attributes</a>, <a class=\"reference internal\" href=\"#instantiating-custom-subclasses\">Instantiating custom subclasses</a>, <a class=\"reference internal\" href=\"#troubleshooting\">Troubleshooting</a>, <a class=\"reference internal\" href=\"#diagnose\"><code class=\"docutils literal notranslate\"><span class=\"pre\">diagnose()</span></code></a>, <a class=\"reference internal\" href=\"#errors-when-parsing-a-document\">Errors when parsing a document</a>, <a class=\"reference internal\" href=\"#version-mismatch-problems\">Version mismatch problems</a>, <a class=\"reference internal\" href=\"#parsing-xml\">Parsing XML</a>, <a class=\"reference internal\" href=\"#other-parser-problems\">Other parser problems</a>, <a class=\"reference internal\" href=\"#miscellaneous\">Miscellaneous</a>, <a class=\"reference internal\" href=\"#improving-performance\">Improving Performance</a>, <a class=\"reference internal\" href=\"#translating-this-documentation\">Translating this documentation</a>, <a class=\"reference internal\" href=\"#id16\">Beautiful Soup 3</a>, <a class=\"reference internal\" href=\"#porting-code-to-bs4\">Porting code to BS4</a>, <a class=\"reference internal\" href=\"#you-need-a-parser\">You need a parser</a>, <a class=\"reference internal\" href=\"#property-names\">Property names</a>, <a class=\"reference internal\" href=\"#generators\">Generators</a>, <a class=\"reference internal\" href=\"#xml\">XML</a>, <a class=\"reference internal\" href=\"#entities\">Entities</a>, <a class=\"reference internal\" href=\"#id17\">Miscellaneous</a>, <a href=\"https://www.sphinx-doc.org/\">Sphinx 7.2.6</a>, <a href=\"https://alabaster.readthedocs.io\">Alabaster 0.7.16</a>, <a href=\"_sources/index.rst.txt\" rel=\"nofollow\">Page source</a>]\n"
          ]
        }
      ]
    },
    {
      "cell_type": "code",
      "source": [
        "var3 = soup.find(id='getting-help')\n",
        "print(var3)"
      ],
      "metadata": {
        "id": "OWEcvjYYUdBM",
        "colab": {
          "base_uri": "https://localhost:8080/"
        },
        "outputId": "b010de9d-beff-4269-b7ad-6dfe4fd797e5"
      },
      "execution_count": 12,
      "outputs": [
        {
          "output_type": "stream",
          "name": "stdout",
          "text": [
            "<section id=\"getting-help\">\n",
            "<h2>Getting help<a class=\"headerlink\" href=\"#getting-help\" title=\"Link to this heading\">¶</a></h2>\n",
            "<p>If you have questions about Beautiful Soup, or run into problems,\n",
            "<a class=\"reference external\" href=\"https://groups.google.com/forum/?fromgroups#!forum/beautifulsoup\">send mail to the discussion group</a>. If\n",
            "your problem involves parsing an HTML document, be sure to mention\n",
            "<a class=\"reference internal\" href=\"#diagnose\"><span class=\"std std-ref\">what the diagnose() function says</span></a> about\n",
            "that document.</p>\n",
            "<p>When reporting an error in this documentation, please mention which\n",
            "translation you're reading.</p>\n",
            "<section id=\"api-documentation\">\n",
            "<h3>API documentation<a class=\"headerlink\" href=\"#api-documentation\" title=\"Link to this heading\">¶</a></h3>\n",
            "<p>This document is written like an instruction manual, but you can also read\n",
            "<a class=\"reference internal\" href=\"api/modules.html\"><span class=\"doc\">traditional API documentation</span></a>\n",
            "generated from the Beautiful Soup source code. If you want details\n",
            "about Beautiful Soup's internals, or a feature not covered in this\n",
            "document, try the API documentation.</p>\n",
            "</section>\n",
            "</section>\n"
          ]
        }
      ]
    },
    {
      "cell_type": "code",
      "source": [
        "var4 = soup.find_all(class_='footer')\n",
        "print(var4)"
      ],
      "metadata": {
        "colab": {
          "base_uri": "https://localhost:8080/"
        },
        "id": "3tCgM_Fj3jQ1",
        "outputId": "22d891c0-f975-4a08-ff9f-ea88d9bcc74b"
      },
      "execution_count": 13,
      "outputs": [
        {
          "output_type": "stream",
          "name": "stdout",
          "text": [
            "[<div class=\"footer\">\n",
            "      ©2004-2025 Leonard Richardson.\n",
            "      \n",
            "      |\n",
            "      Powered by <a href=\"https://www.sphinx-doc.org/\">Sphinx 7.2.6</a>\n",
            "      &amp; <a href=\"https://alabaster.readthedocs.io\">Alabaster 0.7.16</a>\n",
            "      \n",
            "      |\n",
            "      <a href=\"_sources/index.rst.txt\" rel=\"nofollow\">Page source</a>\n",
            "</div>]\n"
          ]
        }
      ]
    },
    {
      "cell_type": "markdown",
      "source": [
        "# css selector"
      ],
      "metadata": {
        "id": "5WEmf33e4od1"
      }
    },
    {
      "cell_type": "code",
      "source": [
        "var5= soup.select('h2')\n",
        "print(var5)"
      ],
      "metadata": {
        "colab": {
          "base_uri": "https://localhost:8080/"
        },
        "id": "Q1KbwuTN4eFR",
        "outputId": "61607a57-2e83-4e3a-b42b-b80aff4461a7"
      },
      "execution_count": 14,
      "outputs": [
        {
          "output_type": "stream",
          "name": "stdout",
          "text": [
            "[<h2>Getting help<a class=\"headerlink\" href=\"#getting-help\" title=\"Link to this heading\">¶</a></h2>, <h2>Installing a parser<a class=\"headerlink\" href=\"#installing-a-parser\" title=\"Link to this heading\">¶</a></h2>, <h2>Multi-valued attributes<a class=\"headerlink\" href=\"#multi-valued-attributes\" title=\"Link to this heading\">¶</a></h2>, <h2>Special strings<a class=\"headerlink\" href=\"#special-strings\" title=\"Link to this heading\">¶</a></h2>, <h2>Going down<a class=\"headerlink\" href=\"#going-down\" title=\"Link to this heading\">¶</a></h2>, <h2>Going up<a class=\"headerlink\" href=\"#going-up\" title=\"Link to this heading\">¶</a></h2>, <h2>Going sideways<a class=\"headerlink\" href=\"#going-sideways\" title=\"Link to this heading\">¶</a></h2>, <h2>Going back and forth<a class=\"headerlink\" href=\"#going-back-and-forth\" title=\"Link to this heading\">¶</a></h2>, <h2>Kinds of filters<a class=\"headerlink\" href=\"#kinds-of-filters\" title=\"Link to this heading\">¶</a></h2>, <h2><code class=\"docutils literal notranslate\"><span class=\"pre\">find_all()</span></code><a class=\"headerlink\" href=\"#find-all\" title=\"Link to this heading\">¶</a></h2>, <h2>Calling a tag is like calling <code class=\"docutils literal notranslate\"><span class=\"pre\">find_all()</span></code><a class=\"headerlink\" href=\"#calling-a-tag-is-like-calling-find-all\" title=\"Link to this heading\">¶</a></h2>, <h2><code class=\"docutils literal notranslate\"><span class=\"pre\">find()</span></code><a class=\"headerlink\" href=\"#find\" title=\"Link to this heading\">¶</a></h2>, <h2><code class=\"docutils literal notranslate\"><span class=\"pre\">find_parents()</span></code> and <code class=\"docutils literal notranslate\"><span class=\"pre\">find_parent()</span></code><a class=\"headerlink\" href=\"#find-parents-and-find-parent\" title=\"Link to this heading\">¶</a></h2>, <h2><code class=\"docutils literal notranslate\"><span class=\"pre\">find_next_siblings()</span></code> and <code class=\"docutils literal notranslate\"><span class=\"pre\">find_next_sibling()</span></code><a class=\"headerlink\" href=\"#find-next-siblings-and-find-next-sibling\" title=\"Link to this heading\">¶</a></h2>, <h2><code class=\"docutils literal notranslate\"><span class=\"pre\">find_previous_siblings()</span></code> and <code class=\"docutils literal notranslate\"><span class=\"pre\">find_previous_sibling()</span></code><a class=\"headerlink\" href=\"#find-previous-siblings-and-find-previous-sibling\" title=\"Link to this heading\">¶</a></h2>, <h2><code class=\"docutils literal notranslate\"><span class=\"pre\">find_all_next()</span></code> and <code class=\"docutils literal notranslate\"><span class=\"pre\">find_next()</span></code><a class=\"headerlink\" href=\"#find-all-next-and-find-next\" title=\"Link to this heading\">¶</a></h2>, <h2><code class=\"docutils literal notranslate\"><span class=\"pre\">find_all_previous()</span></code> and <code class=\"docutils literal notranslate\"><span class=\"pre\">find_previous()</span></code><a class=\"headerlink\" href=\"#find-all-previous-and-find-previous\" title=\"Link to this heading\">¶</a></h2>, <h2>CSS selectors through the <code class=\"docutils literal notranslate\"><span class=\"pre\">.css</span></code> property<a class=\"headerlink\" href=\"#css-selectors-through-the-css-property\" title=\"Link to this heading\">¶</a></h2>, <h2>Changing tag names and attributes<a class=\"headerlink\" href=\"#changing-tag-names-and-attributes\" title=\"Link to this heading\">¶</a></h2>, <h2>Modifying <code class=\"docutils literal notranslate\"><span class=\"pre\">.string</span></code><a class=\"headerlink\" href=\"#modifying-string\" title=\"Link to this heading\">¶</a></h2>, <h2><code class=\"docutils literal notranslate\"><span class=\"pre\">append()</span></code><a class=\"headerlink\" href=\"#append\" title=\"Link to this heading\">¶</a></h2>, <h2><code class=\"docutils literal notranslate\"><span class=\"pre\">extend()</span></code><a class=\"headerlink\" href=\"#extend\" title=\"Link to this heading\">¶</a></h2>, <h2><code class=\"docutils literal notranslate\"><span class=\"pre\">NavigableString()</span></code> and <code class=\"docutils literal notranslate\"><span class=\"pre\">.new_tag()</span></code><a class=\"headerlink\" href=\"#navigablestring-and-new-tag\" title=\"Link to this heading\">¶</a></h2>, <h2><code class=\"docutils literal notranslate\"><span class=\"pre\">insert()</span></code><a class=\"headerlink\" href=\"#insert\" title=\"Link to this heading\">¶</a></h2>, <h2><code class=\"docutils literal notranslate\"><span class=\"pre\">insert_before()</span></code> and <code class=\"docutils literal notranslate\"><span class=\"pre\">insert_after()</span></code><a class=\"headerlink\" href=\"#insert-before-and-insert-after\" title=\"Link to this heading\">¶</a></h2>, <h2><code class=\"docutils literal notranslate\"><span class=\"pre\">clear()</span></code><a class=\"headerlink\" href=\"#clear\" title=\"Link to this heading\">¶</a></h2>, <h2><code class=\"docutils literal notranslate\"><span class=\"pre\">extract()</span></code><a class=\"headerlink\" href=\"#extract\" title=\"Link to this heading\">¶</a></h2>, <h2><code class=\"docutils literal notranslate\"><span class=\"pre\">decompose()</span></code><a class=\"headerlink\" href=\"#decompose\" title=\"Link to this heading\">¶</a></h2>, <h2><code class=\"docutils literal notranslate\"><span class=\"pre\">replace_with()</span></code><a class=\"headerlink\" href=\"#replace-with\" title=\"Link to this heading\">¶</a></h2>, <h2><code class=\"docutils literal notranslate\"><span class=\"pre\">wrap()</span></code><a class=\"headerlink\" href=\"#wrap\" title=\"Link to this heading\">¶</a></h2>, <h2><code class=\"docutils literal notranslate\"><span class=\"pre\">unwrap()</span></code><a class=\"headerlink\" href=\"#unwrap\" title=\"Link to this heading\">¶</a></h2>, <h2><code class=\"docutils literal notranslate\"><span class=\"pre\">smooth()</span></code><a class=\"headerlink\" href=\"#smooth\" title=\"Link to this heading\">¶</a></h2>, <h2>Pretty-printing<a class=\"headerlink\" href=\"#pretty-printing\" title=\"Link to this heading\">¶</a></h2>, <h2>Non-pretty printing<a class=\"headerlink\" href=\"#non-pretty-printing\" title=\"Link to this heading\">¶</a></h2>, <h2>Output formatters<a class=\"headerlink\" href=\"#output-formatters\" title=\"Link to this heading\">¶</a></h2>, <h2><code class=\"docutils literal notranslate\"><span class=\"pre\">get_text()</span></code><a class=\"headerlink\" href=\"#get-text\" title=\"Link to this heading\">¶</a></h2>, <h2>Differences between parsers<a class=\"headerlink\" href=\"#differences-between-parsers\" title=\"Link to this heading\">¶</a></h2>, <h2>Output encoding<a class=\"headerlink\" href=\"#output-encoding\" title=\"Link to this heading\">¶</a></h2>, <h2>Unicode, Dammit<a class=\"headerlink\" href=\"#unicode-dammit\" title=\"Link to this heading\">¶</a></h2>, <h2>Custom element filtering<a class=\"headerlink\" href=\"#custom-element-filtering\" title=\"Link to this heading\">¶</a></h2>, <h2>Parsing only part of a document<a class=\"headerlink\" href=\"#parsing-only-part-of-a-document\" title=\"Link to this heading\">¶</a></h2>, <h2>Customizing multi-valued attributes<a class=\"headerlink\" href=\"#customizing-multi-valued-attributes\" title=\"Link to this heading\">¶</a></h2>, <h2>Handling duplicate attributes<a class=\"headerlink\" href=\"#handling-duplicate-attributes\" title=\"Link to this heading\">¶</a></h2>, <h2>Instantiating custom subclasses<a class=\"headerlink\" href=\"#instantiating-custom-subclasses\" title=\"Link to this heading\">¶</a></h2>, <h2><code class=\"docutils literal notranslate\"><span class=\"pre\">diagnose()</span></code><a class=\"headerlink\" href=\"#diagnose\" title=\"Link to this heading\">¶</a></h2>, <h2>Errors when parsing a document<a class=\"headerlink\" href=\"#errors-when-parsing-a-document\" title=\"Link to this heading\">¶</a></h2>, <h2>Version mismatch problems<a class=\"headerlink\" href=\"#version-mismatch-problems\" title=\"Link to this heading\">¶</a></h2>, <h2>Parsing XML<a class=\"headerlink\" href=\"#parsing-xml\" title=\"Link to this heading\">¶</a></h2>, <h2>Other parser problems<a class=\"headerlink\" href=\"#other-parser-problems\" title=\"Link to this heading\">¶</a></h2>, <h2>Miscellaneous<a class=\"headerlink\" href=\"#miscellaneous\" title=\"Link to this heading\">¶</a></h2>, <h2>Improving Performance<a class=\"headerlink\" href=\"#improving-performance\" title=\"Link to this heading\">¶</a></h2>, <h2>Porting code to BS4<a class=\"headerlink\" href=\"#porting-code-to-bs4\" title=\"Link to this heading\">¶</a></h2>]\n"
          ]
        }
      ]
    },
    {
      "cell_type": "code",
      "source": [
        "var6= soup.select('#quick-start')\n",
        "print(var6)"
      ],
      "metadata": {
        "colab": {
          "base_uri": "https://localhost:8080/"
        },
        "id": "d8aLGAZS54Nb",
        "outputId": "b78257b4-8a3a-4513-f7a4-d93464fdecb8"
      },
      "execution_count": 15,
      "outputs": [
        {
          "output_type": "stream",
          "name": "stdout",
          "text": [
            "[<section id=\"quick-start\">\n",
            "<h1>Quick Start<a class=\"headerlink\" href=\"#quick-start\" title=\"Link to this heading\">¶</a></h1>\n",
            "<p>Here's an HTML document I'll be using as an example throughout this\n",
            "document. It's part of a story from <em>Alice in Wonderland</em>:</p>\n",
            "<div class=\"highlight-default notranslate\"><div class=\"highlight\"><pre><span></span><span class=\"n\">html_doc</span> <span class=\"o\">=</span> <span class=\"s2\">\"\"\"&lt;html&gt;&lt;head&gt;&lt;title&gt;The Dormouse's story&lt;/title&gt;&lt;/head&gt;</span>\n",
            "<span class=\"s2\">&lt;body&gt;</span>\n",
            "<span class=\"s2\">&lt;p class=\"title\"&gt;&lt;b&gt;The Dormouse's story&lt;/b&gt;&lt;/p&gt;</span>\n",
            "\n",
            "<span class=\"s2\">&lt;p class=\"story\"&gt;Once upon a time there were three little sisters; and their names were</span>\n",
            "<span class=\"s2\">&lt;a href=\"http://example.com/elsie\" class=\"sister\" id=\"link1\"&gt;Elsie&lt;/a&gt;,</span>\n",
            "<span class=\"s2\">&lt;a href=\"http://example.com/lacie\" class=\"sister\" id=\"link2\"&gt;Lacie&lt;/a&gt; and</span>\n",
            "<span class=\"s2\">&lt;a href=\"http://example.com/tillie\" class=\"sister\" id=\"link3\"&gt;Tillie&lt;/a&gt;;</span>\n",
            "<span class=\"s2\">and they lived at the bottom of a well.&lt;/p&gt;</span>\n",
            "\n",
            "<span class=\"s2\">&lt;p class=\"story\"&gt;...&lt;/p&gt;</span>\n",
            "<span class=\"s2\">\"\"\"</span>\n",
            "</pre></div>\n",
            "</div>\n",
            "<p>Running the \"three sisters\" document through Beautiful Soup gives us a\n",
            "<code class=\"xref py py-class docutils literal notranslate\"><span class=\"pre\">BeautifulSoup</span></code> object, which represents the document as a nested\n",
            "data structure:</p>\n",
            "<div class=\"highlight-default notranslate\"><div class=\"highlight\"><pre><span></span><span class=\"kn\">from</span> <span class=\"nn\">bs4</span> <span class=\"kn\">import</span> <span class=\"n\">BeautifulSoup</span>\n",
            "<span class=\"n\">soup</span> <span class=\"o\">=</span> <span class=\"n\">BeautifulSoup</span><span class=\"p\">(</span><span class=\"n\">html_doc</span><span class=\"p\">,</span> <span class=\"s1\">'html.parser'</span><span class=\"p\">)</span>\n",
            "\n",
            "<span class=\"nb\">print</span><span class=\"p\">(</span><span class=\"n\">soup</span><span class=\"o\">.</span><span class=\"n\">prettify</span><span class=\"p\">())</span>\n",
            "<span class=\"c1\"># &lt;html&gt;</span>\n",
            "<span class=\"c1\">#  &lt;head&gt;</span>\n",
            "<span class=\"c1\">#   &lt;title&gt;</span>\n",
            "<span class=\"c1\">#    The Dormouse's story</span>\n",
            "<span class=\"c1\">#   &lt;/title&gt;</span>\n",
            "<span class=\"c1\">#  &lt;/head&gt;</span>\n",
            "<span class=\"c1\">#  &lt;body&gt;</span>\n",
            "<span class=\"c1\">#   &lt;p class=\"title\"&gt;</span>\n",
            "<span class=\"c1\">#    &lt;b&gt;</span>\n",
            "<span class=\"c1\">#     The Dormouse's story</span>\n",
            "<span class=\"c1\">#    &lt;/b&gt;</span>\n",
            "<span class=\"c1\">#   &lt;/p&gt;</span>\n",
            "<span class=\"c1\">#   &lt;p class=\"story\"&gt;</span>\n",
            "<span class=\"c1\">#    Once upon a time there were three little sisters; and their names were</span>\n",
            "<span class=\"c1\">#    &lt;a class=\"sister\" href=\"http://example.com/elsie\" id=\"link1\"&gt;</span>\n",
            "<span class=\"c1\">#     Elsie</span>\n",
            "<span class=\"c1\">#    &lt;/a&gt;</span>\n",
            "<span class=\"c1\">#    ,</span>\n",
            "<span class=\"c1\">#    &lt;a class=\"sister\" href=\"http://example.com/lacie\" id=\"link2\"&gt;</span>\n",
            "<span class=\"c1\">#     Lacie</span>\n",
            "<span class=\"c1\">#    &lt;/a&gt;</span>\n",
            "<span class=\"c1\">#    and</span>\n",
            "<span class=\"c1\">#    &lt;a class=\"sister\" href=\"http://example.com/tillie\" id=\"link3\"&gt;</span>\n",
            "<span class=\"c1\">#     Tillie</span>\n",
            "<span class=\"c1\">#    &lt;/a&gt;</span>\n",
            "<span class=\"c1\">#    ; and they lived at the bottom of a well.</span>\n",
            "<span class=\"c1\">#   &lt;/p&gt;</span>\n",
            "<span class=\"c1\">#   &lt;p class=\"story\"&gt;</span>\n",
            "<span class=\"c1\">#    ...</span>\n",
            "<span class=\"c1\">#   &lt;/p&gt;</span>\n",
            "<span class=\"c1\">#  &lt;/body&gt;</span>\n",
            "<span class=\"c1\"># &lt;/html&gt;</span>\n",
            "</pre></div>\n",
            "</div>\n",
            "<p>Here are some simple ways to navigate that data structure:</p>\n",
            "<div class=\"highlight-default notranslate\"><div class=\"highlight\"><pre><span></span><span class=\"n\">soup</span><span class=\"o\">.</span><span class=\"n\">title</span>\n",
            "<span class=\"c1\"># &lt;title&gt;The Dormouse's story&lt;/title&gt;</span>\n",
            "\n",
            "<span class=\"n\">soup</span><span class=\"o\">.</span><span class=\"n\">title</span><span class=\"o\">.</span><span class=\"n\">name</span>\n",
            "<span class=\"c1\"># u'title'</span>\n",
            "\n",
            "<span class=\"n\">soup</span><span class=\"o\">.</span><span class=\"n\">title</span><span class=\"o\">.</span><span class=\"n\">string</span>\n",
            "<span class=\"c1\"># u'The Dormouse's story'</span>\n",
            "\n",
            "<span class=\"n\">soup</span><span class=\"o\">.</span><span class=\"n\">title</span><span class=\"o\">.</span><span class=\"n\">parent</span><span class=\"o\">.</span><span class=\"n\">name</span>\n",
            "<span class=\"c1\"># u'head'</span>\n",
            "\n",
            "<span class=\"n\">soup</span><span class=\"o\">.</span><span class=\"n\">p</span>\n",
            "<span class=\"c1\"># &lt;p class=\"title\"&gt;&lt;b&gt;The Dormouse's story&lt;/b&gt;&lt;/p&gt;</span>\n",
            "\n",
            "<span class=\"n\">soup</span><span class=\"o\">.</span><span class=\"n\">p</span><span class=\"p\">[</span><span class=\"s1\">'class'</span><span class=\"p\">]</span>\n",
            "<span class=\"c1\"># u'title'</span>\n",
            "\n",
            "<span class=\"n\">soup</span><span class=\"o\">.</span><span class=\"n\">a</span>\n",
            "<span class=\"c1\"># &lt;a class=\"sister\" href=\"http://example.com/elsie\" id=\"link1\"&gt;Elsie&lt;/a&gt;</span>\n",
            "\n",
            "<span class=\"n\">soup</span><span class=\"o\">.</span><span class=\"n\">find_all</span><span class=\"p\">(</span><span class=\"s1\">'a'</span><span class=\"p\">)</span>\n",
            "<span class=\"c1\"># [&lt;a class=\"sister\" href=\"http://example.com/elsie\" id=\"link1\"&gt;Elsie&lt;/a&gt;,</span>\n",
            "<span class=\"c1\">#  &lt;a class=\"sister\" href=\"http://example.com/lacie\" id=\"link2\"&gt;Lacie&lt;/a&gt;,</span>\n",
            "<span class=\"c1\">#  &lt;a class=\"sister\" href=\"http://example.com/tillie\" id=\"link3\"&gt;Tillie&lt;/a&gt;]</span>\n",
            "\n",
            "<span class=\"n\">soup</span><span class=\"o\">.</span><span class=\"n\">find</span><span class=\"p\">(</span><span class=\"nb\">id</span><span class=\"o\">=</span><span class=\"s2\">\"link3\"</span><span class=\"p\">)</span>\n",
            "<span class=\"c1\"># &lt;a class=\"sister\" href=\"http://example.com/tillie\" id=\"link3\"&gt;Tillie&lt;/a&gt;</span>\n",
            "</pre></div>\n",
            "</div>\n",
            "<p>One common task is extracting all the URLs found within a page's &lt;a&gt; tags:</p>\n",
            "<div class=\"highlight-default notranslate\"><div class=\"highlight\"><pre><span></span><span class=\"k\">for</span> <span class=\"n\">link</span> <span class=\"ow\">in</span> <span class=\"n\">soup</span><span class=\"o\">.</span><span class=\"n\">find_all</span><span class=\"p\">(</span><span class=\"s1\">'a'</span><span class=\"p\">):</span>\n",
            "    <span class=\"nb\">print</span><span class=\"p\">(</span><span class=\"n\">link</span><span class=\"o\">.</span><span class=\"n\">get</span><span class=\"p\">(</span><span class=\"s1\">'href'</span><span class=\"p\">))</span>\n",
            "<span class=\"c1\"># http://example.com/elsie</span>\n",
            "<span class=\"c1\"># http://example.com/lacie</span>\n",
            "<span class=\"c1\"># http://example.com/tillie</span>\n",
            "</pre></div>\n",
            "</div>\n",
            "<p>Another common task is extracting all the text from a page:</p>\n",
            "<div class=\"highlight-default notranslate\"><div class=\"highlight\"><pre><span></span><span class=\"nb\">print</span><span class=\"p\">(</span><span class=\"n\">soup</span><span class=\"o\">.</span><span class=\"n\">get_text</span><span class=\"p\">())</span>\n",
            "<span class=\"c1\"># The Dormouse's story</span>\n",
            "<span class=\"c1\">#</span>\n",
            "<span class=\"c1\"># The Dormouse's story</span>\n",
            "<span class=\"c1\">#</span>\n",
            "<span class=\"c1\"># Once upon a time there were three little sisters; and their names were</span>\n",
            "<span class=\"c1\"># Elsie,</span>\n",
            "<span class=\"c1\"># Lacie and</span>\n",
            "<span class=\"c1\"># Tillie;</span>\n",
            "<span class=\"c1\"># and they lived at the bottom of a well.</span>\n",
            "<span class=\"c1\">#</span>\n",
            "<span class=\"c1\"># ...</span>\n",
            "</pre></div>\n",
            "</div>\n",
            "<p>Does this look like what you need? If so, read on.</p>\n",
            "</section>]\n"
          ]
        }
      ]
    },
    {
      "cell_type": "code",
      "source": [
        "var7= soup.select('.footer')\n",
        "print(var7)"
      ],
      "metadata": {
        "colab": {
          "base_uri": "https://localhost:8080/"
        },
        "id": "xRoEA94z6Zic",
        "outputId": "a86bfcc5-ab32-4075-d54f-9853295de1f6"
      },
      "execution_count": 16,
      "outputs": [
        {
          "output_type": "stream",
          "name": "stdout",
          "text": [
            "[<div class=\"footer\">\n",
            "      ©2004-2025 Leonard Richardson.\n",
            "      \n",
            "      |\n",
            "      Powered by <a href=\"https://www.sphinx-doc.org/\">Sphinx 7.2.6</a>\n",
            "      &amp; <a href=\"https://alabaster.readthedocs.io\">Alabaster 0.7.16</a>\n",
            "      \n",
            "      |\n",
            "      <a href=\"_sources/index.rst.txt\" rel=\"nofollow\">Page source</a>\n",
            "</div>]\n"
          ]
        }
      ]
    },
    {
      "cell_type": "markdown",
      "source": [
        "pseudo class selector"
      ],
      "metadata": {
        "id": "VocmHBOw7Ezx"
      }
    },
    {
      "cell_type": "code",
      "source": [
        "var8= soup.select('#installing-beautiful-soup h1')\n",
        "print(var8)"
      ],
      "metadata": {
        "colab": {
          "base_uri": "https://localhost:8080/"
        },
        "id": "eNWXihrd64Er",
        "outputId": "dbbc1ebc-c519-43a4-b5c7-a7f743f45770"
      },
      "execution_count": 17,
      "outputs": [
        {
          "output_type": "stream",
          "name": "stdout",
          "text": [
            "[<h1>Installing Beautiful Soup<a class=\"headerlink\" href=\"#installing-beautiful-soup\" title=\"Link to this heading\">¶</a></h1>]\n"
          ]
        }
      ]
    },
    {
      "cell_type": "markdown",
      "source": [
        "# study case : scraping web books"
      ],
      "metadata": {
        "id": "6PzSAiyp_aGC"
      }
    },
    {
      "cell_type": "code",
      "source": [
        "!pip install beautifulsoup4"
      ],
      "metadata": {
        "colab": {
          "base_uri": "https://localhost:8080/"
        },
        "id": "iuGJ1YAzCj9N",
        "outputId": "f5e41ff3-f9c3-44f9-cb38-423334a9df24"
      },
      "execution_count": 18,
      "outputs": [
        {
          "output_type": "stream",
          "name": "stdout",
          "text": [
            "Requirement already satisfied: beautifulsoup4 in /usr/local/lib/python3.11/dist-packages (4.13.3)\n",
            "Requirement already satisfied: soupsieve>1.2 in /usr/local/lib/python3.11/dist-packages (from beautifulsoup4) (2.6)\n",
            "Requirement already satisfied: typing-extensions>=4.0.0 in /usr/local/lib/python3.11/dist-packages (from beautifulsoup4) (4.12.2)\n"
          ]
        }
      ]
    },
    {
      "cell_type": "code",
      "source": [
        "#import library\n",
        "import requests\n",
        "from bs4 import BeautifulSoup\n",
        "import pandas as pd\n",
        "import time"
      ],
      "metadata": {
        "id": "tKApEtV8CbzW"
      },
      "execution_count": 19,
      "outputs": []
    },
    {
      "cell_type": "code",
      "source": [
        "# Header agar tidak terdeteksi sebagai bot\n",
        "headers = {\n",
        "    \"User-Agent\": \"Mozilla/5.0 (Windows NT 10.0; Win64; x64) AppleWebKit/537.36 (KHTML, like Gecko) Chrome/110.0.0.0 Safari/537.36\"\n",
        "}"
      ],
      "metadata": {
        "id": "gbbzpequC24g"
      },
      "execution_count": 20,
      "outputs": []
    },
    {
      "cell_type": "code",
      "source": [
        "#definisikan url web yang akan di scraping\n",
        "base_url = \"http://books.toscrape.com/catalogue/page-{}.html\"\n",
        "\n",
        "#variabel untuk menampung hasil scraping\n",
        "all_books = []\n",
        "\n",
        "# Loop melalui halaman (1-50, karena BooksToScrape memiliki 50 halaman)\n",
        "for page in range(1, 51): #menghandle peginition\n",
        "    url = base_url.format(page)\n",
        "    response = requests.get(url, headers=headers)\n",
        "\n",
        "    if response.status_code == 200:\n",
        "        soup = BeautifulSoup(response.text, \"html.parser\")\n",
        "        books = soup.find_all(\"article\", class_=\"product_pod\")  #menggunakan method find all\n",
        "\n",
        "        for book in books:\n",
        "            title = book.h3.a[\"title\"] #untuk mengambil judul buku\n",
        "            price = book.find(\"p\", class_=\"price_color\").text # mengambil harga buku\n",
        "            rating = book.p[\"class\"][1] #untuk mengambil rating dari buku\n",
        "\n",
        "            all_books.append({\"Title\": title, \"Price\": price, \"Rating\": rating}) # menambah kan hasil scraping ke varibel sebelumnya\n",
        "        print(f\"Halaman {page} berhasil di-scrape.\")\n",
        "\n",
        "    else:\n",
        "        print(f\"Request gagal dengan status code {response.status_code}\") #jika request gagal maka akan langsung mengembalikan status code\n",
        "\n",
        "# mengubah menjadi dataframe\n",
        "df = pd.DataFrame(all_books)"
      ],
      "metadata": {
        "colab": {
          "base_uri": "https://localhost:8080/"
        },
        "id": "xfDT2oowNF7J",
        "outputId": "b586f1f5-a1ca-40fb-f569-4e5bc77627cf"
      },
      "execution_count": 21,
      "outputs": [
        {
          "output_type": "stream",
          "name": "stdout",
          "text": [
            "Halaman 1 berhasil di-scrape.\n",
            "Halaman 2 berhasil di-scrape.\n",
            "Halaman 3 berhasil di-scrape.\n",
            "Halaman 4 berhasil di-scrape.\n",
            "Halaman 5 berhasil di-scrape.\n",
            "Halaman 6 berhasil di-scrape.\n",
            "Halaman 7 berhasil di-scrape.\n",
            "Halaman 8 berhasil di-scrape.\n",
            "Halaman 9 berhasil di-scrape.\n",
            "Halaman 10 berhasil di-scrape.\n",
            "Halaman 11 berhasil di-scrape.\n",
            "Halaman 12 berhasil di-scrape.\n",
            "Halaman 13 berhasil di-scrape.\n",
            "Halaman 14 berhasil di-scrape.\n",
            "Halaman 15 berhasil di-scrape.\n",
            "Halaman 16 berhasil di-scrape.\n",
            "Halaman 17 berhasil di-scrape.\n",
            "Halaman 18 berhasil di-scrape.\n",
            "Halaman 19 berhasil di-scrape.\n",
            "Halaman 20 berhasil di-scrape.\n",
            "Halaman 21 berhasil di-scrape.\n",
            "Halaman 22 berhasil di-scrape.\n",
            "Halaman 23 berhasil di-scrape.\n",
            "Halaman 24 berhasil di-scrape.\n",
            "Halaman 25 berhasil di-scrape.\n",
            "Halaman 26 berhasil di-scrape.\n",
            "Halaman 27 berhasil di-scrape.\n",
            "Halaman 28 berhasil di-scrape.\n",
            "Halaman 29 berhasil di-scrape.\n",
            "Halaman 30 berhasil di-scrape.\n",
            "Halaman 31 berhasil di-scrape.\n",
            "Halaman 32 berhasil di-scrape.\n",
            "Halaman 33 berhasil di-scrape.\n",
            "Halaman 34 berhasil di-scrape.\n",
            "Halaman 35 berhasil di-scrape.\n",
            "Halaman 36 berhasil di-scrape.\n",
            "Halaman 37 berhasil di-scrape.\n",
            "Halaman 38 berhasil di-scrape.\n",
            "Halaman 39 berhasil di-scrape.\n",
            "Halaman 40 berhasil di-scrape.\n",
            "Halaman 41 berhasil di-scrape.\n",
            "Halaman 42 berhasil di-scrape.\n",
            "Halaman 43 berhasil di-scrape.\n",
            "Halaman 44 berhasil di-scrape.\n",
            "Halaman 45 berhasil di-scrape.\n",
            "Halaman 46 berhasil di-scrape.\n",
            "Halaman 47 berhasil di-scrape.\n",
            "Halaman 48 berhasil di-scrape.\n",
            "Halaman 49 berhasil di-scrape.\n",
            "Halaman 50 berhasil di-scrape.\n",
            "Scraping selesai dan berhasil di simpan dalam format csv\n"
          ]
        }
      ]
    },
    {
      "cell_type": "code",
      "source": [
        "#menampilkan data hasil scraping\n",
        "df.head()"
      ],
      "metadata": {
        "colab": {
          "base_uri": "https://localhost:8080/",
          "height": 206
        },
        "id": "5AlD-uKwE9Xr",
        "outputId": "851dc01d-da3d-4520-870b-1de9e16b89bc"
      },
      "execution_count": 22,
      "outputs": [
        {
          "output_type": "execute_result",
          "data": {
            "text/plain": [
              "                                   Title    Price Rating\n",
              "0                   A Light in the Attic  Â£51.77  Three\n",
              "1                     Tipping the Velvet  Â£53.74    One\n",
              "2                             Soumission  Â£50.10    One\n",
              "3                          Sharp Objects  Â£47.82   Four\n",
              "4  Sapiens: A Brief History of Humankind  Â£54.23   Five"
            ],
            "text/html": [
              "\n",
              "  <div id=\"df-90a7de2f-38df-4d89-a227-432c748bdba2\" class=\"colab-df-container\">\n",
              "    <div>\n",
              "<style scoped>\n",
              "    .dataframe tbody tr th:only-of-type {\n",
              "        vertical-align: middle;\n",
              "    }\n",
              "\n",
              "    .dataframe tbody tr th {\n",
              "        vertical-align: top;\n",
              "    }\n",
              "\n",
              "    .dataframe thead th {\n",
              "        text-align: right;\n",
              "    }\n",
              "</style>\n",
              "<table border=\"1\" class=\"dataframe\">\n",
              "  <thead>\n",
              "    <tr style=\"text-align: right;\">\n",
              "      <th></th>\n",
              "      <th>Title</th>\n",
              "      <th>Price</th>\n",
              "      <th>Rating</th>\n",
              "    </tr>\n",
              "  </thead>\n",
              "  <tbody>\n",
              "    <tr>\n",
              "      <th>0</th>\n",
              "      <td>A Light in the Attic</td>\n",
              "      <td>Â£51.77</td>\n",
              "      <td>Three</td>\n",
              "    </tr>\n",
              "    <tr>\n",
              "      <th>1</th>\n",
              "      <td>Tipping the Velvet</td>\n",
              "      <td>Â£53.74</td>\n",
              "      <td>One</td>\n",
              "    </tr>\n",
              "    <tr>\n",
              "      <th>2</th>\n",
              "      <td>Soumission</td>\n",
              "      <td>Â£50.10</td>\n",
              "      <td>One</td>\n",
              "    </tr>\n",
              "    <tr>\n",
              "      <th>3</th>\n",
              "      <td>Sharp Objects</td>\n",
              "      <td>Â£47.82</td>\n",
              "      <td>Four</td>\n",
              "    </tr>\n",
              "    <tr>\n",
              "      <th>4</th>\n",
              "      <td>Sapiens: A Brief History of Humankind</td>\n",
              "      <td>Â£54.23</td>\n",
              "      <td>Five</td>\n",
              "    </tr>\n",
              "  </tbody>\n",
              "</table>\n",
              "</div>\n",
              "    <div class=\"colab-df-buttons\">\n",
              "\n",
              "  <div class=\"colab-df-container\">\n",
              "    <button class=\"colab-df-convert\" onclick=\"convertToInteractive('df-90a7de2f-38df-4d89-a227-432c748bdba2')\"\n",
              "            title=\"Convert this dataframe to an interactive table.\"\n",
              "            style=\"display:none;\">\n",
              "\n",
              "  <svg xmlns=\"http://www.w3.org/2000/svg\" height=\"24px\" viewBox=\"0 -960 960 960\">\n",
              "    <path d=\"M120-120v-720h720v720H120Zm60-500h600v-160H180v160Zm220 220h160v-160H400v160Zm0 220h160v-160H400v160ZM180-400h160v-160H180v160Zm440 0h160v-160H620v160ZM180-180h160v-160H180v160Zm440 0h160v-160H620v160Z\"/>\n",
              "  </svg>\n",
              "    </button>\n",
              "\n",
              "  <style>\n",
              "    .colab-df-container {\n",
              "      display:flex;\n",
              "      gap: 12px;\n",
              "    }\n",
              "\n",
              "    .colab-df-convert {\n",
              "      background-color: #E8F0FE;\n",
              "      border: none;\n",
              "      border-radius: 50%;\n",
              "      cursor: pointer;\n",
              "      display: none;\n",
              "      fill: #1967D2;\n",
              "      height: 32px;\n",
              "      padding: 0 0 0 0;\n",
              "      width: 32px;\n",
              "    }\n",
              "\n",
              "    .colab-df-convert:hover {\n",
              "      background-color: #E2EBFA;\n",
              "      box-shadow: 0px 1px 2px rgba(60, 64, 67, 0.3), 0px 1px 3px 1px rgba(60, 64, 67, 0.15);\n",
              "      fill: #174EA6;\n",
              "    }\n",
              "\n",
              "    .colab-df-buttons div {\n",
              "      margin-bottom: 4px;\n",
              "    }\n",
              "\n",
              "    [theme=dark] .colab-df-convert {\n",
              "      background-color: #3B4455;\n",
              "      fill: #D2E3FC;\n",
              "    }\n",
              "\n",
              "    [theme=dark] .colab-df-convert:hover {\n",
              "      background-color: #434B5C;\n",
              "      box-shadow: 0px 1px 3px 1px rgba(0, 0, 0, 0.15);\n",
              "      filter: drop-shadow(0px 1px 2px rgba(0, 0, 0, 0.3));\n",
              "      fill: #FFFFFF;\n",
              "    }\n",
              "  </style>\n",
              "\n",
              "    <script>\n",
              "      const buttonEl =\n",
              "        document.querySelector('#df-90a7de2f-38df-4d89-a227-432c748bdba2 button.colab-df-convert');\n",
              "      buttonEl.style.display =\n",
              "        google.colab.kernel.accessAllowed ? 'block' : 'none';\n",
              "\n",
              "      async function convertToInteractive(key) {\n",
              "        const element = document.querySelector('#df-90a7de2f-38df-4d89-a227-432c748bdba2');\n",
              "        const dataTable =\n",
              "          await google.colab.kernel.invokeFunction('convertToInteractive',\n",
              "                                                    [key], {});\n",
              "        if (!dataTable) return;\n",
              "\n",
              "        const docLinkHtml = 'Like what you see? Visit the ' +\n",
              "          '<a target=\"_blank\" href=https://colab.research.google.com/notebooks/data_table.ipynb>data table notebook</a>'\n",
              "          + ' to learn more about interactive tables.';\n",
              "        element.innerHTML = '';\n",
              "        dataTable['output_type'] = 'display_data';\n",
              "        await google.colab.output.renderOutput(dataTable, element);\n",
              "        const docLink = document.createElement('div');\n",
              "        docLink.innerHTML = docLinkHtml;\n",
              "        element.appendChild(docLink);\n",
              "      }\n",
              "    </script>\n",
              "  </div>\n",
              "\n",
              "\n",
              "<div id=\"df-d3e0bb36-7892-4749-8fed-85beac14afe3\">\n",
              "  <button class=\"colab-df-quickchart\" onclick=\"quickchart('df-d3e0bb36-7892-4749-8fed-85beac14afe3')\"\n",
              "            title=\"Suggest charts\"\n",
              "            style=\"display:none;\">\n",
              "\n",
              "<svg xmlns=\"http://www.w3.org/2000/svg\" height=\"24px\"viewBox=\"0 0 24 24\"\n",
              "     width=\"24px\">\n",
              "    <g>\n",
              "        <path d=\"M19 3H5c-1.1 0-2 .9-2 2v14c0 1.1.9 2 2 2h14c1.1 0 2-.9 2-2V5c0-1.1-.9-2-2-2zM9 17H7v-7h2v7zm4 0h-2V7h2v10zm4 0h-2v-4h2v4z\"/>\n",
              "    </g>\n",
              "</svg>\n",
              "  </button>\n",
              "\n",
              "<style>\n",
              "  .colab-df-quickchart {\n",
              "      --bg-color: #E8F0FE;\n",
              "      --fill-color: #1967D2;\n",
              "      --hover-bg-color: #E2EBFA;\n",
              "      --hover-fill-color: #174EA6;\n",
              "      --disabled-fill-color: #AAA;\n",
              "      --disabled-bg-color: #DDD;\n",
              "  }\n",
              "\n",
              "  [theme=dark] .colab-df-quickchart {\n",
              "      --bg-color: #3B4455;\n",
              "      --fill-color: #D2E3FC;\n",
              "      --hover-bg-color: #434B5C;\n",
              "      --hover-fill-color: #FFFFFF;\n",
              "      --disabled-bg-color: #3B4455;\n",
              "      --disabled-fill-color: #666;\n",
              "  }\n",
              "\n",
              "  .colab-df-quickchart {\n",
              "    background-color: var(--bg-color);\n",
              "    border: none;\n",
              "    border-radius: 50%;\n",
              "    cursor: pointer;\n",
              "    display: none;\n",
              "    fill: var(--fill-color);\n",
              "    height: 32px;\n",
              "    padding: 0;\n",
              "    width: 32px;\n",
              "  }\n",
              "\n",
              "  .colab-df-quickchart:hover {\n",
              "    background-color: var(--hover-bg-color);\n",
              "    box-shadow: 0 1px 2px rgba(60, 64, 67, 0.3), 0 1px 3px 1px rgba(60, 64, 67, 0.15);\n",
              "    fill: var(--button-hover-fill-color);\n",
              "  }\n",
              "\n",
              "  .colab-df-quickchart-complete:disabled,\n",
              "  .colab-df-quickchart-complete:disabled:hover {\n",
              "    background-color: var(--disabled-bg-color);\n",
              "    fill: var(--disabled-fill-color);\n",
              "    box-shadow: none;\n",
              "  }\n",
              "\n",
              "  .colab-df-spinner {\n",
              "    border: 2px solid var(--fill-color);\n",
              "    border-color: transparent;\n",
              "    border-bottom-color: var(--fill-color);\n",
              "    animation:\n",
              "      spin 1s steps(1) infinite;\n",
              "  }\n",
              "\n",
              "  @keyframes spin {\n",
              "    0% {\n",
              "      border-color: transparent;\n",
              "      border-bottom-color: var(--fill-color);\n",
              "      border-left-color: var(--fill-color);\n",
              "    }\n",
              "    20% {\n",
              "      border-color: transparent;\n",
              "      border-left-color: var(--fill-color);\n",
              "      border-top-color: var(--fill-color);\n",
              "    }\n",
              "    30% {\n",
              "      border-color: transparent;\n",
              "      border-left-color: var(--fill-color);\n",
              "      border-top-color: var(--fill-color);\n",
              "      border-right-color: var(--fill-color);\n",
              "    }\n",
              "    40% {\n",
              "      border-color: transparent;\n",
              "      border-right-color: var(--fill-color);\n",
              "      border-top-color: var(--fill-color);\n",
              "    }\n",
              "    60% {\n",
              "      border-color: transparent;\n",
              "      border-right-color: var(--fill-color);\n",
              "    }\n",
              "    80% {\n",
              "      border-color: transparent;\n",
              "      border-right-color: var(--fill-color);\n",
              "      border-bottom-color: var(--fill-color);\n",
              "    }\n",
              "    90% {\n",
              "      border-color: transparent;\n",
              "      border-bottom-color: var(--fill-color);\n",
              "    }\n",
              "  }\n",
              "</style>\n",
              "\n",
              "  <script>\n",
              "    async function quickchart(key) {\n",
              "      const quickchartButtonEl =\n",
              "        document.querySelector('#' + key + ' button');\n",
              "      quickchartButtonEl.disabled = true;  // To prevent multiple clicks.\n",
              "      quickchartButtonEl.classList.add('colab-df-spinner');\n",
              "      try {\n",
              "        const charts = await google.colab.kernel.invokeFunction(\n",
              "            'suggestCharts', [key], {});\n",
              "      } catch (error) {\n",
              "        console.error('Error during call to suggestCharts:', error);\n",
              "      }\n",
              "      quickchartButtonEl.classList.remove('colab-df-spinner');\n",
              "      quickchartButtonEl.classList.add('colab-df-quickchart-complete');\n",
              "    }\n",
              "    (() => {\n",
              "      let quickchartButtonEl =\n",
              "        document.querySelector('#df-d3e0bb36-7892-4749-8fed-85beac14afe3 button');\n",
              "      quickchartButtonEl.style.display =\n",
              "        google.colab.kernel.accessAllowed ? 'block' : 'none';\n",
              "    })();\n",
              "  </script>\n",
              "</div>\n",
              "\n",
              "    </div>\n",
              "  </div>\n"
            ],
            "application/vnd.google.colaboratory.intrinsic+json": {
              "type": "dataframe",
              "variable_name": "df",
              "summary": "{\n  \"name\": \"df\",\n  \"rows\": 1000,\n  \"fields\": [\n    {\n      \"column\": \"Title\",\n      \"properties\": {\n        \"dtype\": \"string\",\n        \"num_unique_values\": 999,\n        \"samples\": [\n          \"The Grownup\",\n          \"Persepolis: The Story of a Childhood (Persepolis #1-2)\",\n          \"Ayumi's Violin\"\n        ],\n        \"semantic_type\": \"\",\n        \"description\": \"\"\n      }\n    },\n    {\n      \"column\": \"Price\",\n      \"properties\": {\n        \"dtype\": \"string\",\n        \"num_unique_values\": 903,\n        \"samples\": [\n          \"\\u00c2\\u00a319.73\",\n          \"\\u00c2\\u00a355.65\",\n          \"\\u00c2\\u00a346.31\"\n        ],\n        \"semantic_type\": \"\",\n        \"description\": \"\"\n      }\n    },\n    {\n      \"column\": \"Rating\",\n      \"properties\": {\n        \"dtype\": \"category\",\n        \"num_unique_values\": 5,\n        \"samples\": [\n          \"One\",\n          \"Two\",\n          \"Four\"\n        ],\n        \"semantic_type\": \"\",\n        \"description\": \"\"\n      }\n    }\n  ]\n}"
            }
          },
          "metadata": {},
          "execution_count": 22
        }
      ]
    },
    {
      "cell_type": "code",
      "source": [
        "df.info()"
      ],
      "metadata": {
        "colab": {
          "base_uri": "https://localhost:8080/"
        },
        "id": "vpLQ-oT_F98g",
        "outputId": "90b0a08f-d273-4a7d-f415-f8823dd3d54a"
      },
      "execution_count": 23,
      "outputs": [
        {
          "output_type": "stream",
          "name": "stdout",
          "text": [
            "<class 'pandas.core.frame.DataFrame'>\n",
            "RangeIndex: 1000 entries, 0 to 999\n",
            "Data columns (total 3 columns):\n",
            " #   Column  Non-Null Count  Dtype \n",
            "---  ------  --------------  ----- \n",
            " 0   Title   1000 non-null   object\n",
            " 1   Price   1000 non-null   object\n",
            " 2   Rating  1000 non-null   object\n",
            "dtypes: object(3)\n",
            "memory usage: 23.6+ KB\n"
          ]
        }
      ]
    },
    {
      "cell_type": "markdown",
      "source": [
        "mendapatkan 1000 baris data dan data bersih tanpa null"
      ],
      "metadata": {
        "id": "MzNfBcMjGBSq"
      }
    },
    {
      "cell_type": "code",
      "source": [
        "#mengecek duplikat\n",
        "df.duplicated().sum()"
      ],
      "metadata": {
        "colab": {
          "base_uri": "https://localhost:8080/"
        },
        "id": "5nuRuu0nGHjV",
        "outputId": "68de9ebc-4ebd-478c-c6d8-b84251ac46e1"
      },
      "execution_count": 24,
      "outputs": [
        {
          "output_type": "execute_result",
          "data": {
            "text/plain": [
              "np.int64(0)"
            ]
          },
          "metadata": {},
          "execution_count": 24
        }
      ]
    },
    {
      "cell_type": "code",
      "source": [
        "#mengahapus simbol mata uang di kolom price dan merubahnya menjadi tipe data float\n",
        "df['Price'] = df['Price'].str.replace('Â£', '', regex=True).astype(float)\n",
        "df.head()"
      ],
      "metadata": {
        "colab": {
          "base_uri": "https://localhost:8080/",
          "height": 424
        },
        "id": "1Na1qrUQGQ2a",
        "outputId": "56a0eb57-8408-43aa-9b2c-fd2e130a776f"
      },
      "execution_count": 25,
      "outputs": [
        {
          "output_type": "execute_result",
          "data": {
            "text/plain": [
              "                                                 Title  Price Rating\n",
              "0                                 A Light in the Attic  51.77  Three\n",
              "1                                   Tipping the Velvet  53.74    One\n",
              "2                                           Soumission  50.10    One\n",
              "3                                        Sharp Objects  47.82   Four\n",
              "4                Sapiens: A Brief History of Humankind  54.23   Five\n",
              "..                                                 ...    ...    ...\n",
              "995  Alice in Wonderland (Alice's Adventures in Won...  55.53    One\n",
              "996   Ajin: Demi-Human, Volume 1 (Ajin: Demi-Human #1)  57.06   Four\n",
              "997  A Spy's Devotion (The Regency Spies of London #1)  16.97   Five\n",
              "998                1st to Die (Women's Murder Club #1)  53.98    One\n",
              "999                 1,000 Places to See Before You Die  26.08   Five\n",
              "\n",
              "[1000 rows x 3 columns]"
            ],
            "text/html": [
              "\n",
              "  <div id=\"df-78abe25c-9dae-4841-a0ac-78bdce74ed5f\" class=\"colab-df-container\">\n",
              "    <div>\n",
              "<style scoped>\n",
              "    .dataframe tbody tr th:only-of-type {\n",
              "        vertical-align: middle;\n",
              "    }\n",
              "\n",
              "    .dataframe tbody tr th {\n",
              "        vertical-align: top;\n",
              "    }\n",
              "\n",
              "    .dataframe thead th {\n",
              "        text-align: right;\n",
              "    }\n",
              "</style>\n",
              "<table border=\"1\" class=\"dataframe\">\n",
              "  <thead>\n",
              "    <tr style=\"text-align: right;\">\n",
              "      <th></th>\n",
              "      <th>Title</th>\n",
              "      <th>Price</th>\n",
              "      <th>Rating</th>\n",
              "    </tr>\n",
              "  </thead>\n",
              "  <tbody>\n",
              "    <tr>\n",
              "      <th>0</th>\n",
              "      <td>A Light in the Attic</td>\n",
              "      <td>51.77</td>\n",
              "      <td>Three</td>\n",
              "    </tr>\n",
              "    <tr>\n",
              "      <th>1</th>\n",
              "      <td>Tipping the Velvet</td>\n",
              "      <td>53.74</td>\n",
              "      <td>One</td>\n",
              "    </tr>\n",
              "    <tr>\n",
              "      <th>2</th>\n",
              "      <td>Soumission</td>\n",
              "      <td>50.10</td>\n",
              "      <td>One</td>\n",
              "    </tr>\n",
              "    <tr>\n",
              "      <th>3</th>\n",
              "      <td>Sharp Objects</td>\n",
              "      <td>47.82</td>\n",
              "      <td>Four</td>\n",
              "    </tr>\n",
              "    <tr>\n",
              "      <th>4</th>\n",
              "      <td>Sapiens: A Brief History of Humankind</td>\n",
              "      <td>54.23</td>\n",
              "      <td>Five</td>\n",
              "    </tr>\n",
              "    <tr>\n",
              "      <th>...</th>\n",
              "      <td>...</td>\n",
              "      <td>...</td>\n",
              "      <td>...</td>\n",
              "    </tr>\n",
              "    <tr>\n",
              "      <th>995</th>\n",
              "      <td>Alice in Wonderland (Alice's Adventures in Won...</td>\n",
              "      <td>55.53</td>\n",
              "      <td>One</td>\n",
              "    </tr>\n",
              "    <tr>\n",
              "      <th>996</th>\n",
              "      <td>Ajin: Demi-Human, Volume 1 (Ajin: Demi-Human #1)</td>\n",
              "      <td>57.06</td>\n",
              "      <td>Four</td>\n",
              "    </tr>\n",
              "    <tr>\n",
              "      <th>997</th>\n",
              "      <td>A Spy's Devotion (The Regency Spies of London #1)</td>\n",
              "      <td>16.97</td>\n",
              "      <td>Five</td>\n",
              "    </tr>\n",
              "    <tr>\n",
              "      <th>998</th>\n",
              "      <td>1st to Die (Women's Murder Club #1)</td>\n",
              "      <td>53.98</td>\n",
              "      <td>One</td>\n",
              "    </tr>\n",
              "    <tr>\n",
              "      <th>999</th>\n",
              "      <td>1,000 Places to See Before You Die</td>\n",
              "      <td>26.08</td>\n",
              "      <td>Five</td>\n",
              "    </tr>\n",
              "  </tbody>\n",
              "</table>\n",
              "<p>1000 rows × 3 columns</p>\n",
              "</div>\n",
              "    <div class=\"colab-df-buttons\">\n",
              "\n",
              "  <div class=\"colab-df-container\">\n",
              "    <button class=\"colab-df-convert\" onclick=\"convertToInteractive('df-78abe25c-9dae-4841-a0ac-78bdce74ed5f')\"\n",
              "            title=\"Convert this dataframe to an interactive table.\"\n",
              "            style=\"display:none;\">\n",
              "\n",
              "  <svg xmlns=\"http://www.w3.org/2000/svg\" height=\"24px\" viewBox=\"0 -960 960 960\">\n",
              "    <path d=\"M120-120v-720h720v720H120Zm60-500h600v-160H180v160Zm220 220h160v-160H400v160Zm0 220h160v-160H400v160ZM180-400h160v-160H180v160Zm440 0h160v-160H620v160ZM180-180h160v-160H180v160Zm440 0h160v-160H620v160Z\"/>\n",
              "  </svg>\n",
              "    </button>\n",
              "\n",
              "  <style>\n",
              "    .colab-df-container {\n",
              "      display:flex;\n",
              "      gap: 12px;\n",
              "    }\n",
              "\n",
              "    .colab-df-convert {\n",
              "      background-color: #E8F0FE;\n",
              "      border: none;\n",
              "      border-radius: 50%;\n",
              "      cursor: pointer;\n",
              "      display: none;\n",
              "      fill: #1967D2;\n",
              "      height: 32px;\n",
              "      padding: 0 0 0 0;\n",
              "      width: 32px;\n",
              "    }\n",
              "\n",
              "    .colab-df-convert:hover {\n",
              "      background-color: #E2EBFA;\n",
              "      box-shadow: 0px 1px 2px rgba(60, 64, 67, 0.3), 0px 1px 3px 1px rgba(60, 64, 67, 0.15);\n",
              "      fill: #174EA6;\n",
              "    }\n",
              "\n",
              "    .colab-df-buttons div {\n",
              "      margin-bottom: 4px;\n",
              "    }\n",
              "\n",
              "    [theme=dark] .colab-df-convert {\n",
              "      background-color: #3B4455;\n",
              "      fill: #D2E3FC;\n",
              "    }\n",
              "\n",
              "    [theme=dark] .colab-df-convert:hover {\n",
              "      background-color: #434B5C;\n",
              "      box-shadow: 0px 1px 3px 1px rgba(0, 0, 0, 0.15);\n",
              "      filter: drop-shadow(0px 1px 2px rgba(0, 0, 0, 0.3));\n",
              "      fill: #FFFFFF;\n",
              "    }\n",
              "  </style>\n",
              "\n",
              "    <script>\n",
              "      const buttonEl =\n",
              "        document.querySelector('#df-78abe25c-9dae-4841-a0ac-78bdce74ed5f button.colab-df-convert');\n",
              "      buttonEl.style.display =\n",
              "        google.colab.kernel.accessAllowed ? 'block' : 'none';\n",
              "\n",
              "      async function convertToInteractive(key) {\n",
              "        const element = document.querySelector('#df-78abe25c-9dae-4841-a0ac-78bdce74ed5f');\n",
              "        const dataTable =\n",
              "          await google.colab.kernel.invokeFunction('convertToInteractive',\n",
              "                                                    [key], {});\n",
              "        if (!dataTable) return;\n",
              "\n",
              "        const docLinkHtml = 'Like what you see? Visit the ' +\n",
              "          '<a target=\"_blank\" href=https://colab.research.google.com/notebooks/data_table.ipynb>data table notebook</a>'\n",
              "          + ' to learn more about interactive tables.';\n",
              "        element.innerHTML = '';\n",
              "        dataTable['output_type'] = 'display_data';\n",
              "        await google.colab.output.renderOutput(dataTable, element);\n",
              "        const docLink = document.createElement('div');\n",
              "        docLink.innerHTML = docLinkHtml;\n",
              "        element.appendChild(docLink);\n",
              "      }\n",
              "    </script>\n",
              "  </div>\n",
              "\n",
              "\n",
              "<div id=\"df-bc51a7db-fc4c-4f64-b06d-cab41958513b\">\n",
              "  <button class=\"colab-df-quickchart\" onclick=\"quickchart('df-bc51a7db-fc4c-4f64-b06d-cab41958513b')\"\n",
              "            title=\"Suggest charts\"\n",
              "            style=\"display:none;\">\n",
              "\n",
              "<svg xmlns=\"http://www.w3.org/2000/svg\" height=\"24px\"viewBox=\"0 0 24 24\"\n",
              "     width=\"24px\">\n",
              "    <g>\n",
              "        <path d=\"M19 3H5c-1.1 0-2 .9-2 2v14c0 1.1.9 2 2 2h14c1.1 0 2-.9 2-2V5c0-1.1-.9-2-2-2zM9 17H7v-7h2v7zm4 0h-2V7h2v10zm4 0h-2v-4h2v4z\"/>\n",
              "    </g>\n",
              "</svg>\n",
              "  </button>\n",
              "\n",
              "<style>\n",
              "  .colab-df-quickchart {\n",
              "      --bg-color: #E8F0FE;\n",
              "      --fill-color: #1967D2;\n",
              "      --hover-bg-color: #E2EBFA;\n",
              "      --hover-fill-color: #174EA6;\n",
              "      --disabled-fill-color: #AAA;\n",
              "      --disabled-bg-color: #DDD;\n",
              "  }\n",
              "\n",
              "  [theme=dark] .colab-df-quickchart {\n",
              "      --bg-color: #3B4455;\n",
              "      --fill-color: #D2E3FC;\n",
              "      --hover-bg-color: #434B5C;\n",
              "      --hover-fill-color: #FFFFFF;\n",
              "      --disabled-bg-color: #3B4455;\n",
              "      --disabled-fill-color: #666;\n",
              "  }\n",
              "\n",
              "  .colab-df-quickchart {\n",
              "    background-color: var(--bg-color);\n",
              "    border: none;\n",
              "    border-radius: 50%;\n",
              "    cursor: pointer;\n",
              "    display: none;\n",
              "    fill: var(--fill-color);\n",
              "    height: 32px;\n",
              "    padding: 0;\n",
              "    width: 32px;\n",
              "  }\n",
              "\n",
              "  .colab-df-quickchart:hover {\n",
              "    background-color: var(--hover-bg-color);\n",
              "    box-shadow: 0 1px 2px rgba(60, 64, 67, 0.3), 0 1px 3px 1px rgba(60, 64, 67, 0.15);\n",
              "    fill: var(--button-hover-fill-color);\n",
              "  }\n",
              "\n",
              "  .colab-df-quickchart-complete:disabled,\n",
              "  .colab-df-quickchart-complete:disabled:hover {\n",
              "    background-color: var(--disabled-bg-color);\n",
              "    fill: var(--disabled-fill-color);\n",
              "    box-shadow: none;\n",
              "  }\n",
              "\n",
              "  .colab-df-spinner {\n",
              "    border: 2px solid var(--fill-color);\n",
              "    border-color: transparent;\n",
              "    border-bottom-color: var(--fill-color);\n",
              "    animation:\n",
              "      spin 1s steps(1) infinite;\n",
              "  }\n",
              "\n",
              "  @keyframes spin {\n",
              "    0% {\n",
              "      border-color: transparent;\n",
              "      border-bottom-color: var(--fill-color);\n",
              "      border-left-color: var(--fill-color);\n",
              "    }\n",
              "    20% {\n",
              "      border-color: transparent;\n",
              "      border-left-color: var(--fill-color);\n",
              "      border-top-color: var(--fill-color);\n",
              "    }\n",
              "    30% {\n",
              "      border-color: transparent;\n",
              "      border-left-color: var(--fill-color);\n",
              "      border-top-color: var(--fill-color);\n",
              "      border-right-color: var(--fill-color);\n",
              "    }\n",
              "    40% {\n",
              "      border-color: transparent;\n",
              "      border-right-color: var(--fill-color);\n",
              "      border-top-color: var(--fill-color);\n",
              "    }\n",
              "    60% {\n",
              "      border-color: transparent;\n",
              "      border-right-color: var(--fill-color);\n",
              "    }\n",
              "    80% {\n",
              "      border-color: transparent;\n",
              "      border-right-color: var(--fill-color);\n",
              "      border-bottom-color: var(--fill-color);\n",
              "    }\n",
              "    90% {\n",
              "      border-color: transparent;\n",
              "      border-bottom-color: var(--fill-color);\n",
              "    }\n",
              "  }\n",
              "</style>\n",
              "\n",
              "  <script>\n",
              "    async function quickchart(key) {\n",
              "      const quickchartButtonEl =\n",
              "        document.querySelector('#' + key + ' button');\n",
              "      quickchartButtonEl.disabled = true;  // To prevent multiple clicks.\n",
              "      quickchartButtonEl.classList.add('colab-df-spinner');\n",
              "      try {\n",
              "        const charts = await google.colab.kernel.invokeFunction(\n",
              "            'suggestCharts', [key], {});\n",
              "      } catch (error) {\n",
              "        console.error('Error during call to suggestCharts:', error);\n",
              "      }\n",
              "      quickchartButtonEl.classList.remove('colab-df-spinner');\n",
              "      quickchartButtonEl.classList.add('colab-df-quickchart-complete');\n",
              "    }\n",
              "    (() => {\n",
              "      let quickchartButtonEl =\n",
              "        document.querySelector('#df-bc51a7db-fc4c-4f64-b06d-cab41958513b button');\n",
              "      quickchartButtonEl.style.display =\n",
              "        google.colab.kernel.accessAllowed ? 'block' : 'none';\n",
              "    })();\n",
              "  </script>\n",
              "</div>\n",
              "\n",
              "  <div id=\"id_c565413b-e62f-482b-8c1a-9a570e7d543d\">\n",
              "    <style>\n",
              "      .colab-df-generate {\n",
              "        background-color: #E8F0FE;\n",
              "        border: none;\n",
              "        border-radius: 50%;\n",
              "        cursor: pointer;\n",
              "        display: none;\n",
              "        fill: #1967D2;\n",
              "        height: 32px;\n",
              "        padding: 0 0 0 0;\n",
              "        width: 32px;\n",
              "      }\n",
              "\n",
              "      .colab-df-generate:hover {\n",
              "        background-color: #E2EBFA;\n",
              "        box-shadow: 0px 1px 2px rgba(60, 64, 67, 0.3), 0px 1px 3px 1px rgba(60, 64, 67, 0.15);\n",
              "        fill: #174EA6;\n",
              "      }\n",
              "\n",
              "      [theme=dark] .colab-df-generate {\n",
              "        background-color: #3B4455;\n",
              "        fill: #D2E3FC;\n",
              "      }\n",
              "\n",
              "      [theme=dark] .colab-df-generate:hover {\n",
              "        background-color: #434B5C;\n",
              "        box-shadow: 0px 1px 3px 1px rgba(0, 0, 0, 0.15);\n",
              "        filter: drop-shadow(0px 1px 2px rgba(0, 0, 0, 0.3));\n",
              "        fill: #FFFFFF;\n",
              "      }\n",
              "    </style>\n",
              "    <button class=\"colab-df-generate\" onclick=\"generateWithVariable('df')\"\n",
              "            title=\"Generate code using this dataframe.\"\n",
              "            style=\"display:none;\">\n",
              "\n",
              "  <svg xmlns=\"http://www.w3.org/2000/svg\" height=\"24px\"viewBox=\"0 0 24 24\"\n",
              "       width=\"24px\">\n",
              "    <path d=\"M7,19H8.4L18.45,9,17,7.55,7,17.6ZM5,21V16.75L18.45,3.32a2,2,0,0,1,2.83,0l1.4,1.43a1.91,1.91,0,0,1,.58,1.4,1.91,1.91,0,0,1-.58,1.4L9.25,21ZM18.45,9,17,7.55Zm-12,3A5.31,5.31,0,0,0,4.9,8.1,5.31,5.31,0,0,0,1,6.5,5.31,5.31,0,0,0,4.9,4.9,5.31,5.31,0,0,0,6.5,1,5.31,5.31,0,0,0,8.1,4.9,5.31,5.31,0,0,0,12,6.5,5.46,5.46,0,0,0,6.5,12Z\"/>\n",
              "  </svg>\n",
              "    </button>\n",
              "    <script>\n",
              "      (() => {\n",
              "      const buttonEl =\n",
              "        document.querySelector('#id_c565413b-e62f-482b-8c1a-9a570e7d543d button.colab-df-generate');\n",
              "      buttonEl.style.display =\n",
              "        google.colab.kernel.accessAllowed ? 'block' : 'none';\n",
              "\n",
              "      buttonEl.onclick = () => {\n",
              "        google.colab.notebook.generateWithVariable('df');\n",
              "      }\n",
              "      })();\n",
              "    </script>\n",
              "  </div>\n",
              "\n",
              "    </div>\n",
              "  </div>\n"
            ],
            "application/vnd.google.colaboratory.intrinsic+json": {
              "type": "dataframe",
              "variable_name": "df",
              "summary": "{\n  \"name\": \"df\",\n  \"rows\": 1000,\n  \"fields\": [\n    {\n      \"column\": \"Title\",\n      \"properties\": {\n        \"dtype\": \"string\",\n        \"num_unique_values\": 999,\n        \"samples\": [\n          \"The Grownup\",\n          \"Persepolis: The Story of a Childhood (Persepolis #1-2)\",\n          \"Ayumi's Violin\"\n        ],\n        \"semantic_type\": \"\",\n        \"description\": \"\"\n      }\n    },\n    {\n      \"column\": \"Price\",\n      \"properties\": {\n        \"dtype\": \"number\",\n        \"std\": 14.446689669952772,\n        \"min\": 10.0,\n        \"max\": 59.99,\n        \"num_unique_values\": 903,\n        \"samples\": [\n          19.73,\n          55.65,\n          46.31\n        ],\n        \"semantic_type\": \"\",\n        \"description\": \"\"\n      }\n    },\n    {\n      \"column\": \"Rating\",\n      \"properties\": {\n        \"dtype\": \"category\",\n        \"num_unique_values\": 5,\n        \"samples\": [\n          \"One\",\n          \"Two\",\n          \"Four\"\n        ],\n        \"semantic_type\": \"\",\n        \"description\": \"\"\n      }\n    }\n  ]\n}"
            }
          },
          "metadata": {},
          "execution_count": 25
        }
      ]
    },
    {
      "cell_type": "code",
      "source": [
        "df.info()"
      ],
      "metadata": {
        "colab": {
          "base_uri": "https://localhost:8080/"
        },
        "id": "R4cxwQMXHciS",
        "outputId": "b149bf3b-e190-4a67-c18a-fa59ab26c0f9"
      },
      "execution_count": 26,
      "outputs": [
        {
          "output_type": "stream",
          "name": "stdout",
          "text": [
            "<class 'pandas.core.frame.DataFrame'>\n",
            "RangeIndex: 1000 entries, 0 to 999\n",
            "Data columns (total 3 columns):\n",
            " #   Column  Non-Null Count  Dtype  \n",
            "---  ------  --------------  -----  \n",
            " 0   Title   1000 non-null   object \n",
            " 1   Price   1000 non-null   float64\n",
            " 2   Rating  1000 non-null   object \n",
            "dtypes: float64(1), object(2)\n",
            "memory usage: 23.6+ KB\n"
          ]
        }
      ]
    },
    {
      "cell_type": "code",
      "source": [
        "#simpan data yang sudah bersih dan ditransform ke csv\n",
        "\n",
        "df.to_csv(\"books_scraped.csv\", index=False)"
      ],
      "metadata": {
        "id": "FLdHu76NHp01"
      },
      "execution_count": null,
      "outputs": []
    }
  ]
}